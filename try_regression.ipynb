{
  "nbformat": 4,
  "nbformat_minor": 0,
  "metadata": {
    "colab": {
      "provenance": [],
      "authorship_tag": "ABX9TyOlbVl8a0T72g8BCvgkqEuw",
      "include_colab_link": true
    },
    "kernelspec": {
      "name": "python3",
      "display_name": "Python 3"
    },
    "language_info": {
      "name": "python"
    }
  },
  "cells": [
    {
      "cell_type": "markdown",
      "metadata": {
        "id": "view-in-github",
        "colab_type": "text"
      },
      "source": [
        "<a href=\"https://colab.research.google.com/github/nichakornchaisuwan/Project_Boneage/blob/main/try_regression.ipynb\" target=\"_parent\"><img src=\"https://colab.research.google.com/assets/colab-badge.svg\" alt=\"Open In Colab\"/></a>"
      ]
    },
    {
      "cell_type": "code",
      "execution_count": 1,
      "metadata": {
        "id": "HqK9vvpBxrLO"
      },
      "outputs": [],
      "source": [
        "import os\n",
        "import numpy as np\n",
        "import pandas as pd\n",
        "from PIL import Image\n",
        "\n",
        "import matplotlib.pyplot as plt\n",
        "from torchvision.io import read_image\n",
        "from torch.utils.data import Dataset\n",
        "from sklearn.model_selection import train_test_split\n",
        "from torch.utils.data import DataLoader\n",
        "from torchvision.transforms import Resize"
      ]
    },
    {
      "cell_type": "code",
      "source": [
        "# Define relevant variables for the ML task\n",
        "START_EPOCH=0\n",
        "NUM_EPOCHS=60\n",
        "LR=0.0001\n",
        "PATIENCE=2\n",
        "BATCH_SIZE=20\n",
        "NUM_WORKERS=0\n",
        "NUM_GPUS=1\n",
        "GPUS=0"
      ],
      "metadata": {
        "id": "296g1y6YIJWT"
      },
      "execution_count": 130,
      "outputs": []
    },
    {
      "cell_type": "code",
      "source": [
        "from google.colab import drive # เชื่อม drive ของเรา ถ้าเชื่อมสำเร็จจะขึ้นคำว่าMounted at /content/drive \n",
        "drive.mount('/content/drive')"
      ],
      "metadata": {
        "colab": {
          "base_uri": "https://localhost:8080/"
        },
        "id": "q2FuHTag4NGu",
        "outputId": "e567cc05-7692-451a-dbc4-7462a6e655ef"
      },
      "execution_count": 4,
      "outputs": [
        {
          "output_type": "stream",
          "name": "stdout",
          "text": [
            "Mounted at /content/drive\n"
          ]
        }
      ]
    },
    {
      "cell_type": "code",
      "source": [
        "import os # os จัดการเกี่ยวกับไฟล์ต่างๆ ในโฟล์เดอร์"
      ],
      "metadata": {
        "id": "o_Qj-HIz4RcL"
      },
      "execution_count": 5,
      "outputs": []
    },
    {
      "cell_type": "code",
      "source": [
        "path = '/content/drive/My Drive/Project_Boneage' "
      ],
      "metadata": {
        "id": "PqhsntTS31D0"
      },
      "execution_count": 6,
      "outputs": []
    },
    {
      "cell_type": "code",
      "source": [
        "image_path = '/content/drive/My Drive/Project_Boneage/boneage_training_dataset'\n",
        "\n",
        "#loading dataframes # เอาที่อยู่ของไฟล์เชื่อมกับที่อยู่ของไฟล์เรา โดยกำหนดชื่่อไฟล์ที่เราต้องการ\n",
        "train_path = os.path.join(path,'train.csv')\n",
        "train_dataset = pd.read_csv(train_path)\n",
        "validation_path = os.path.join(path,'validation.csv')\n",
        "validation_dataset = pd.read_csv(validation_path)\n",
        "test_path = os.path.join(path,'boneage-test-dataset.csv')\n",
        "test_dataset = pd.read_csv(test_path)\n",
        "#train_df , val_df = train_test_split(df)"
      ],
      "metadata": {
        "id": "wTk7-ctZxt6H"
      },
      "execution_count": 131,
      "outputs": []
    },
    {
      "cell_type": "code",
      "source": [
        "import torch\n",
        "\n",
        "from torch.autograd import Variable"
      ],
      "metadata": {
        "id": "bcBLkIo77tTj"
      },
      "execution_count": 132,
      "outputs": []
    },
    {
      "cell_type": "code",
      "source": [
        "Sample_X_data = Variable(torch.Tensor(train_dataset['boneage']))\n",
        "\n",
        "Sample_Y_data = Variable(torch.Tensor(validation_dataset['boneage']))"
      ],
      "metadata": {
        "id": "DlNkIhTA4Y6H"
      },
      "execution_count": 133,
      "outputs": []
    },
    {
      "cell_type": "code",
      "source": [
        "Sample_X_data"
      ],
      "metadata": {
        "colab": {
          "base_uri": "https://localhost:8080/"
        },
        "id": "RhCPDVUdDwev",
        "outputId": "14224978-0a42-419e-b013-121f51f01d16"
      },
      "execution_count": 134,
      "outputs": [
        {
          "output_type": "execute_result",
          "data": {
            "text/plain": [
              "tensor([180.,  12.,  94.,  ...,  94.,  94., 216.])"
            ]
          },
          "metadata": {},
          "execution_count": 134
        }
      ]
    },
    {
      "cell_type": "code",
      "source": [
        "Sample_Y_data"
      ],
      "metadata": {
        "colab": {
          "base_uri": "https://localhost:8080/"
        },
        "id": "P2RIZybGD7oQ",
        "outputId": "6095539d-a5a9-4dfd-cbdc-2eeff842ed5f"
      },
      "execution_count": 135,
      "outputs": [
        {
          "output_type": "execute_result",
          "data": {
            "text/plain": [
              "tensor([ 10.,  15., 180.,  ...,  55., 150., 132.])"
            ]
          },
          "metadata": {},
          "execution_count": 135
        }
      ]
    },
    {
      "cell_type": "code",
      "source": [
        "class LinearRegression(torch.nn.Module):\n",
        "\n",
        "   def __init__(self): \n",
        "      super(LinearRegression, self).__init__() \n",
        "      self.linear = torch.nn.Linear(10089, 2522)\n",
        "\n",
        "      \n",
        "   def forward(self, x): \n",
        "\n",
        "        predict_y = self.linear(x) \n",
        "        return predict_y "
      ],
      "metadata": {
        "id": "vY8kDmMH-TyH"
      },
      "execution_count": 140,
      "outputs": []
    },
    {
      "cell_type": "code",
      "source": [
        "linear_model = LinearRegression()"
      ],
      "metadata": {
        "id": "dw-Lwje1-W3A"
      },
      "execution_count": 141,
      "outputs": []
    },
    {
      "cell_type": "code",
      "source": [
        "define_criterion = torch.nn.MSELoss(size_average=False)\n",
        "\n",
        "SGD_optimizer = torch.optim.SGD(linear_model.parameters(), lr=0.0001)"
      ],
      "metadata": {
        "colab": {
          "base_uri": "https://localhost:8080/"
        },
        "id": "2H1YSPi0-g4D",
        "outputId": "f33a9ea6-ac54-4e6a-cc26-394767b17eb9"
      },
      "execution_count": 142,
      "outputs": [
        {
          "output_type": "stream",
          "name": "stderr",
          "text": [
            "/usr/local/lib/python3.8/dist-packages/torch/nn/_reduction.py:42: UserWarning: size_average and reduce args will be deprecated, please use reduction='sum' instead.\n",
            "  warnings.warn(warning.format(ret))\n"
          ]
        }
      ]
    },
    {
      "cell_type": "code",
      "source": [
        "for epoch in range(60): \n",
        "\n",
        "  \n",
        "    predict_y = linear_model(Sample_X_data) \n",
        "    loss = define_criterion(predict_y, Sample_Y_data) \n",
        "\n",
        "  \n",
        "    SGD_optimizer.zero_grad() \n",
        "    loss.backward() \n",
        "\n",
        "    SGD_optimizer.step() \n",
        "    print('epoch {}, loss function {}'.format(epoch, loss.item()))"
      ],
      "metadata": {
        "colab": {
          "base_uri": "https://localhost:8080/"
        },
        "id": "WS6OKx0w-jQV",
        "outputId": "a2cb78f6-5a36-4a57-fef4-da60b7da79ff"
      },
      "execution_count": 143,
      "outputs": [
        {
          "output_type": "stream",
          "name": "stdout",
          "text": [
            "epoch 0, loss function 62218780.0\n",
            "epoch 1, loss function 8.119712123505869e+16\n",
            "epoch 2, loss function 1.0596434218225662e+26\n",
            "epoch 3, loss function 1.3828619163468003e+35\n",
            "epoch 4, loss function inf\n",
            "epoch 5, loss function inf\n",
            "epoch 6, loss function inf\n",
            "epoch 7, loss function inf\n",
            "epoch 8, loss function inf\n",
            "epoch 9, loss function inf\n",
            "epoch 10, loss function nan\n",
            "epoch 11, loss function nan\n",
            "epoch 12, loss function nan\n",
            "epoch 13, loss function nan\n",
            "epoch 14, loss function nan\n",
            "epoch 15, loss function nan\n",
            "epoch 16, loss function nan\n",
            "epoch 17, loss function nan\n",
            "epoch 18, loss function nan\n",
            "epoch 19, loss function nan\n",
            "epoch 20, loss function nan\n",
            "epoch 21, loss function nan\n",
            "epoch 22, loss function nan\n",
            "epoch 23, loss function nan\n",
            "epoch 24, loss function nan\n",
            "epoch 25, loss function nan\n",
            "epoch 26, loss function nan\n",
            "epoch 27, loss function nan\n",
            "epoch 28, loss function nan\n",
            "epoch 29, loss function nan\n",
            "epoch 30, loss function nan\n",
            "epoch 31, loss function nan\n",
            "epoch 32, loss function nan\n",
            "epoch 33, loss function nan\n",
            "epoch 34, loss function nan\n",
            "epoch 35, loss function nan\n",
            "epoch 36, loss function nan\n",
            "epoch 37, loss function nan\n",
            "epoch 38, loss function nan\n",
            "epoch 39, loss function nan\n",
            "epoch 40, loss function nan\n",
            "epoch 41, loss function nan\n",
            "epoch 42, loss function nan\n",
            "epoch 43, loss function nan\n",
            "epoch 44, loss function nan\n",
            "epoch 45, loss function nan\n",
            "epoch 46, loss function nan\n",
            "epoch 47, loss function nan\n",
            "epoch 48, loss function nan\n",
            "epoch 49, loss function nan\n",
            "epoch 50, loss function nan\n",
            "epoch 51, loss function nan\n",
            "epoch 52, loss function nan\n",
            "epoch 53, loss function nan\n",
            "epoch 54, loss function nan\n",
            "epoch 55, loss function nan\n",
            "epoch 56, loss function nan\n",
            "epoch 57, loss function nan\n",
            "epoch 58, loss function nan\n",
            "epoch 59, loss function nan\n"
          ]
        }
      ]
    },
    {
      "cell_type": "code",
      "source": [],
      "metadata": {
        "id": "U3bcuPKWCfgB"
      },
      "execution_count": null,
      "outputs": []
    }
  ]
}