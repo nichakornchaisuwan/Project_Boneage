{
  "nbformat": 4,
  "nbformat_minor": 0,
  "metadata": {
    "colab": {
      "provenance": [],
      "machine_shape": "hm",
      "authorship_tag": "ABX9TyOb3k8ZHGKPTasoW4MoNLw1",
      "include_colab_link": true
    },
    "kernelspec": {
      "name": "python3",
      "display_name": "Python 3"
    },
    "language_info": {
      "name": "python"
    },
    "gpuClass": "standard",
    "accelerator": "GPU"
  },
  "cells": [
    {
      "cell_type": "markdown",
      "metadata": {
        "id": "view-in-github",
        "colab_type": "text"
      },
      "source": [
        "<a href=\"https://colab.research.google.com/github/nichakornchaisuwan/Project_Boneage/blob/main/CNN_Regression.ipynb\" target=\"_parent\"><img src=\"https://colab.research.google.com/assets/colab-badge.svg\" alt=\"Open In Colab\"/></a>"
      ]
    },
    {
      "cell_type": "markdown",
      "source": [
        "# Load data"
      ],
      "metadata": {
        "id": "5cszBj1-cNtK"
      }
    },
    {
      "cell_type": "code",
      "execution_count": 1,
      "metadata": {
        "id": "maCx9DnmxBqM"
      },
      "outputs": [],
      "source": [
        "# This Python 3 environment comes with many helpful analytics libraries installed\n",
        "# It is defined by the kaggle/python docker image: https://github.com/kaggle/docker-python\n",
        "# For example, here's several helpful packages to load in \n",
        "\n",
        "import numpy as np # linear algebra # เป็นการ import numpy เพื่อเปิดใช้ฟังก์ชันในการทำงาน\n",
        "import pandas as pd # data processing, CSV file I/O (e.g. pd.read_csv) # เป็น library ในการจัดการ dataframe\n",
        "import tensorflow as tf #library สำหรับสร้าง machine learning models แบบ open source จาก Google\n",
        "import datetime,os # datetime ใช้ในการจัด format ของวัน-เวลาให้อยู่ในรูปแบบที่ต้องการ \n",
        "import math # เรียกใช้ module เพื่อคำนวณค่าต่างๆ \n",
        "import matplotlib.pyplot as plt # เป็น module พื้นฐานที่ใช้ในการสร้างกราฟของ python\n",
        "import seaborn as sns # เป็นฟังก์ชันเสริมที่ใช้สร้างกราฟให้มีความสวยงามมากขึ้น\n",
        "from sklearn.model_selection import train_test_split # เป็น library ในการพัฒนาโปรแกรมโดยใช้การเรียนรู้ของเครื่อง"
      ]
    },
    {
      "cell_type": "code",
      "source": [
        "from google.colab import drive # เชื่อม drive ของเรา ถ้าเชื่อมสำเร็จจะขึ้นคำว่าMounted at /content/drive \n",
        "drive.mount('/content/drive')"
      ],
      "metadata": {
        "colab": {
          "base_uri": "https://localhost:8080/",
          "height": 328
        },
        "id": "uoMOfDLaxW-x",
        "outputId": "dc95dc74-0fec-4e59-d267-d35a288a8f7d"
      },
      "execution_count": 2,
      "outputs": [
        {
          "output_type": "error",
          "ename": "MessageError",
          "evalue": "ignored",
          "traceback": [
            "\u001b[0;31m---------------------------------------------------------------------------\u001b[0m",
            "\u001b[0;31mMessageError\u001b[0m                              Traceback (most recent call last)",
            "\u001b[0;32m<ipython-input-2-970103b22920>\u001b[0m in \u001b[0;36m<module>\u001b[0;34m\u001b[0m\n\u001b[1;32m      1\u001b[0m \u001b[0;32mfrom\u001b[0m \u001b[0mgoogle\u001b[0m\u001b[0;34m.\u001b[0m\u001b[0mcolab\u001b[0m \u001b[0;32mimport\u001b[0m \u001b[0mdrive\u001b[0m \u001b[0;31m# เชื่อม drive ของเรา ถ้าเชื่อมสำเร็จจะขึ้นคำว่าMounted at /content/drive\u001b[0m\u001b[0;34m\u001b[0m\u001b[0;34m\u001b[0m\u001b[0m\n\u001b[0;32m----> 2\u001b[0;31m \u001b[0mdrive\u001b[0m\u001b[0;34m.\u001b[0m\u001b[0mmount\u001b[0m\u001b[0;34m(\u001b[0m\u001b[0;34m'/content/drive'\u001b[0m\u001b[0;34m)\u001b[0m\u001b[0;34m\u001b[0m\u001b[0;34m\u001b[0m\u001b[0m\n\u001b[0m",
            "\u001b[0;32m/usr/local/lib/python3.8/dist-packages/google/colab/drive.py\u001b[0m in \u001b[0;36mmount\u001b[0;34m(mountpoint, force_remount, timeout_ms, readonly)\u001b[0m\n\u001b[1;32m     99\u001b[0m \u001b[0;32mdef\u001b[0m \u001b[0mmount\u001b[0m\u001b[0;34m(\u001b[0m\u001b[0mmountpoint\u001b[0m\u001b[0;34m,\u001b[0m \u001b[0mforce_remount\u001b[0m\u001b[0;34m=\u001b[0m\u001b[0;32mFalse\u001b[0m\u001b[0;34m,\u001b[0m \u001b[0mtimeout_ms\u001b[0m\u001b[0;34m=\u001b[0m\u001b[0;36m120000\u001b[0m\u001b[0;34m,\u001b[0m \u001b[0mreadonly\u001b[0m\u001b[0;34m=\u001b[0m\u001b[0;32mFalse\u001b[0m\u001b[0;34m)\u001b[0m\u001b[0;34m:\u001b[0m\u001b[0;34m\u001b[0m\u001b[0;34m\u001b[0m\u001b[0m\n\u001b[1;32m    100\u001b[0m   \u001b[0;34m\"\"\"Mount your Google Drive at the specified mountpoint path.\"\"\"\u001b[0m\u001b[0;34m\u001b[0m\u001b[0;34m\u001b[0m\u001b[0m\n\u001b[0;32m--> 101\u001b[0;31m   return _mount(\n\u001b[0m\u001b[1;32m    102\u001b[0m       \u001b[0mmountpoint\u001b[0m\u001b[0;34m,\u001b[0m\u001b[0;34m\u001b[0m\u001b[0;34m\u001b[0m\u001b[0m\n\u001b[1;32m    103\u001b[0m       \u001b[0mforce_remount\u001b[0m\u001b[0;34m=\u001b[0m\u001b[0mforce_remount\u001b[0m\u001b[0;34m,\u001b[0m\u001b[0;34m\u001b[0m\u001b[0;34m\u001b[0m\u001b[0m\n",
            "\u001b[0;32m/usr/local/lib/python3.8/dist-packages/google/colab/drive.py\u001b[0m in \u001b[0;36m_mount\u001b[0;34m(mountpoint, force_remount, timeout_ms, ephemeral, readonly)\u001b[0m\n\u001b[1;32m    122\u001b[0m       'TBE_EPHEM_CREDS_ADDR'] if ephemeral else _os.environ['TBE_CREDS_ADDR']\n\u001b[1;32m    123\u001b[0m   \u001b[0;32mif\u001b[0m \u001b[0mephemeral\u001b[0m\u001b[0;34m:\u001b[0m\u001b[0;34m\u001b[0m\u001b[0;34m\u001b[0m\u001b[0m\n\u001b[0;32m--> 124\u001b[0;31m     _message.blocking_request(\n\u001b[0m\u001b[1;32m    125\u001b[0m         'request_auth', request={'authType': 'dfs_ephemeral'}, timeout_sec=None)\n\u001b[1;32m    126\u001b[0m \u001b[0;34m\u001b[0m\u001b[0m\n",
            "\u001b[0;32m/usr/local/lib/python3.8/dist-packages/google/colab/_message.py\u001b[0m in \u001b[0;36mblocking_request\u001b[0;34m(request_type, request, timeout_sec, parent)\u001b[0m\n\u001b[1;32m    169\u001b[0m   request_id = send_request(\n\u001b[1;32m    170\u001b[0m       request_type, request, parent=parent, expect_reply=True)\n\u001b[0;32m--> 171\u001b[0;31m   \u001b[0;32mreturn\u001b[0m \u001b[0mread_reply_from_input\u001b[0m\u001b[0;34m(\u001b[0m\u001b[0mrequest_id\u001b[0m\u001b[0;34m,\u001b[0m \u001b[0mtimeout_sec\u001b[0m\u001b[0;34m)\u001b[0m\u001b[0;34m\u001b[0m\u001b[0;34m\u001b[0m\u001b[0m\n\u001b[0m",
            "\u001b[0;32m/usr/local/lib/python3.8/dist-packages/google/colab/_message.py\u001b[0m in \u001b[0;36mread_reply_from_input\u001b[0;34m(message_id, timeout_sec)\u001b[0m\n\u001b[1;32m    100\u001b[0m         reply.get('colab_msg_id') == message_id):\n\u001b[1;32m    101\u001b[0m       \u001b[0;32mif\u001b[0m \u001b[0;34m'error'\u001b[0m \u001b[0;32min\u001b[0m \u001b[0mreply\u001b[0m\u001b[0;34m:\u001b[0m\u001b[0;34m\u001b[0m\u001b[0;34m\u001b[0m\u001b[0m\n\u001b[0;32m--> 102\u001b[0;31m         \u001b[0;32mraise\u001b[0m \u001b[0mMessageError\u001b[0m\u001b[0;34m(\u001b[0m\u001b[0mreply\u001b[0m\u001b[0;34m[\u001b[0m\u001b[0;34m'error'\u001b[0m\u001b[0;34m]\u001b[0m\u001b[0;34m)\u001b[0m\u001b[0;34m\u001b[0m\u001b[0;34m\u001b[0m\u001b[0m\n\u001b[0m\u001b[1;32m    103\u001b[0m       \u001b[0;32mreturn\u001b[0m \u001b[0mreply\u001b[0m\u001b[0;34m.\u001b[0m\u001b[0mget\u001b[0m\u001b[0;34m(\u001b[0m\u001b[0;34m'data'\u001b[0m\u001b[0;34m,\u001b[0m \u001b[0;32mNone\u001b[0m\u001b[0;34m)\u001b[0m\u001b[0;34m\u001b[0m\u001b[0;34m\u001b[0m\u001b[0m\n\u001b[1;32m    104\u001b[0m \u001b[0;34m\u001b[0m\u001b[0m\n",
            "\u001b[0;31mMessageError\u001b[0m: Error: credential propagation was unsuccessful"
          ]
        }
      ]
    },
    {
      "cell_type": "code",
      "source": [
        "import os # os จัดการเกี่ยวกับไฟล์ต่างๆ ในโฟล์เดอร์"
      ],
      "metadata": {
        "id": "25AwOX4IxYwA"
      },
      "execution_count": null,
      "outputs": []
    },
    {
      "cell_type": "code",
      "source": [
        "path = '/content/drive/My Drive/Project_Boneage'  # ชี้ว่า data เราอยู่โฟล์เดอร์ไหน"
      ],
      "metadata": {
        "id": "0MS_drVCxbGo"
      },
      "execution_count": null,
      "outputs": []
    },
    {
      "cell_type": "code",
      "source": [
        "#loading dataframes # เอาที่อยู่ของไฟล์เชื่อมกับที่อยู่ของไฟล์เรา โดยกำหนดชื่่อไฟล์ที่เราต้องการ\n",
        "train = pd.read_csv(path+\"/train.csv\")\n",
        "validation = pd.read_csv(path+\"/validation.csv\")\n",
        "test = pd.read_csv(path+\"/boneage-test-dataset.csv\")"
      ],
      "metadata": {
        "id": "fAgwPxnMxgX2"
      },
      "execution_count": null,
      "outputs": []
    },
    {
      "cell_type": "code",
      "source": [
        "#appending file extension to id column for both training and testing dataframes\n",
        "# ต่อท้าย data ใน column 'id' ด้วย .png\n",
        "train['id'] = train['id'].apply(lambda x: str(x)+'.png') # ทำการเปลี่ยน type ใน column 'id' จาก int  เป็น string เพื่อให้สามารถต่อท้ายด้วย .png ได้ # ฟังก์ชันแลมบ์ดาเป็นฟังก์ชันที่ไม่ระบุตัวตนขนาดเล็ก\n",
        "validation['id'] = validation['id'].apply(lambda x: str(x)+'.png') \n",
        "test['id'] = test['id'].apply(lambda x: str(x)+'.png') \n",
        "\n",
        "train.head() # แสดงค่าของ train_df บางส่วน"
      ],
      "metadata": {
        "id": "qVgZC0uFxlqY"
      },
      "execution_count": null,
      "outputs": []
    },
    {
      "cell_type": "code",
      "source": [
        "#finding out the number of male and female children in the dataset\n",
        "#creating a new column called gender to keep the gender of the child as a string\n",
        "train['male'] = train['male'].apply(lambda x: 'male' if x else 'female') # ทำการเปลี่ยนค่าข้อมูล gender จาก true -> male, false -> female \n",
        "validation['male'] = validation['male'].apply(lambda x: 'male' if x else 'female') # ทำการเปลี่ยนค่าข้อมูล gender จาก true -> male, false -> female \n",
        "test['male'] = test['male'].apply(lambda x: 'male' if x else 'female')"
      ],
      "metadata": {
        "id": "CQAq0OIxzxkz"
      },
      "execution_count": null,
      "outputs": []
    },
    {
      "cell_type": "code",
      "source": [
        "train = pd.DataFrame(train)\n",
        "val = pd.DataFrame(validation)\n",
        "test = pd.DataFrame(test)"
      ],
      "metadata": {
        "id": "1Ns_YQsV4Zgf"
      },
      "execution_count": null,
      "outputs": []
    },
    {
      "cell_type": "code",
      "source": [
        "train.rename(columns={'male':'gender'},inplace=True)\n",
        "val.rename(columns={'male':'gender'},inplace=True)\n",
        "test.rename(columns={'male':'gender'},inplace=True)"
      ],
      "metadata": {
        "id": "DRb5k3_j2uuU"
      },
      "execution_count": null,
      "outputs": []
    },
    {
      "cell_type": "code",
      "source": [
        "mean_bone_age_train = train['boneage'].mean() \n",
        "std_bone_age_train = train['boneage'].std()\n",
        "train['bone_age_z'] = (train['boneage'] - mean_bone_age_train)/(std_bone_age_train)\n",
        "print(train.head())"
      ],
      "metadata": {
        "id": "DQJ4DESA1B4i"
      },
      "execution_count": null,
      "outputs": []
    },
    {
      "cell_type": "code",
      "source": [
        "mean_bone_age_val = val['boneage'].mean() \n",
        "std_bone_age_val = val['boneage'].std()\n",
        "val['bone_age_z'] = (val['boneage'] - mean_bone_age_val)/(std_bone_age_val)\n",
        "print(val.head())"
      ],
      "metadata": {
        "id": "LLxAXVnm1CXX"
      },
      "execution_count": null,
      "outputs": []
    },
    {
      "cell_type": "code",
      "source": [
        "#import matplotlib.image as mpimg #นำเข้า library ที่ใช้อ่านรูป\n",
        "#for filename, boneage, gender in train_df[['id','boneage','gender']].sample(10).values: #เป็นคำสั่งวนลูปเพื่อแสดงภาพ และข้อมูลของภาพที่เก็บไว้ใน Train_df (ชื่อ อายุ เพศ)\n",
        "#    img = mpimg.imread(os.path.join(path,'boneage-training-dataset-5261/')+ filename) # เป็นคำสั่งที่ใช้ในการนำรูปเข้ามา\n",
        "#    plt.imshow(img) # แสดงรูปภาพ\n",
        "#    plt.title('Image name:{}  Bone age: {} years  Gender: {}'.format(filename, boneage/12, gender)) # แสดงหัวเรื่องโดยบอกถึง ชื่อ อายุ(ปี) และเพศ ของแต่ละภาพ\n",
        "#    plt.axis('off')\n",
        "#    plt.show()"
      ],
      "metadata": {
        "id": "KdN27ZYXNHcD"
      },
      "execution_count": null,
      "outputs": []
    },
    {
      "cell_type": "code",
      "source": [
        "#library required for image preprocessing \n",
        "from tensorflow.keras.preprocessing.image import ImageDataGenerator \n",
        "from  keras.applications.xception import preprocess_input"
      ],
      "metadata": {
        "id": "4zXcbVLjNmbz"
      },
      "execution_count": null,
      "outputs": []
    },
    {
      "cell_type": "code",
      "source": [
        "#reducing down the size of the image \n",
        "img_size = 256 # ลดขนาดรูปภาพ"
      ],
      "metadata": {
        "id": "3L0IgQ-ONnfF"
      },
      "execution_count": null,
      "outputs": []
    },
    {
      "cell_type": "code",
      "source": [
        "train_data_generator = ImageDataGenerator(preprocessing_function = preprocess_input)\n",
        "val_data_generator = ImageDataGenerator(preprocessing_function = preprocess_input)"
      ],
      "metadata": {
        "id": "71hkAmY1Nnbp"
      },
      "execution_count": null,
      "outputs": []
    },
    {
      "cell_type": "code",
      "source": [
        "#train data generator\n",
        "train_generator = train_data_generator.flow_from_dataframe(\n",
        "    dataframe = train,\n",
        "    directory = (os.path.join(path,'boneage_training_dataset/')),\n",
        "    x_col= 'id',\n",
        "    y_col= 'bone_age_z',\n",
        "    batch_size = 32,\n",
        "    seed = 42,\n",
        "    shuffle = True,\n",
        "    class_mode= 'raw',\n",
        "    #flip_vertical = True,\n",
        "    color_mode = 'rgb',\n",
        "    target_size = (img_size, img_size))"
      ],
      "metadata": {
        "id": "Um-cUhuqNnZF"
      },
      "execution_count": null,
      "outputs": []
    },
    {
      "cell_type": "code",
      "source": [
        "train_generator"
      ],
      "metadata": {
        "id": "cx4Gm9ylCtzo"
      },
      "execution_count": null,
      "outputs": []
    },
    {
      "cell_type": "code",
      "source": [
        "#validation data generator\n",
        "val_generator = val_data_generator.flow_from_dataframe(\n",
        "    dataframe = val,\n",
        "    directory = (os.path.join(path,'boneage_validation_dataset/')),\n",
        "    x_col = 'id',\n",
        "    y_col = 'bone_age_z',\n",
        "    batch_size = 32,\n",
        "    seed = 42,\n",
        "    shuffle = True,\n",
        "    class_mode = 'raw',\n",
        "    #flip_vertical = True,\n",
        "    color_mode = 'rgb',\n",
        "    target_size = (img_size, img_size))"
      ],
      "metadata": {
        "id": "Xm0jttibNnV9"
      },
      "execution_count": null,
      "outputs": []
    },
    {
      "cell_type": "code",
      "source": [
        "#test data generator\n",
        "test_data_generator = ImageDataGenerator(preprocessing_function = preprocess_input)\n",
        "\n",
        "test_generator = test_data_generator.flow_from_directory(\n",
        "    directory = (os.path.join(path,'boneage-test-dataset/')),\n",
        "    target_size = (img_size,img_size),\n",
        "    shuffle = True,\n",
        "    class_mode = 'binary',classes=['.'],\n",
        "    color_mode = 'rgb')"
      ],
      "metadata": {
        "id": "AD6HKsSuNnTQ"
      },
      "execution_count": null,
      "outputs": []
    },
    {
      "cell_type": "code",
      "source": [
        "train_X,train_Y = next(train_data_generator.flow_from_dataframe( \n",
        "                            train_df, \n",
        "                            directory = (os.path.join(path,'boneage_training_dataset/')),\n",
        "                            x_col = 'id',\n",
        "                            y_col = 'bone_age_z', \n",
        "                            target_size = (img_size, img_size),\n",
        "                            batch_size = 10090,\n",
        "                            class_mode = 'raw'\n",
        "                            )) "
      ],
      "metadata": {
        "id": "4Hp6UbjCDW9t"
      },
      "execution_count": null,
      "outputs": []
    },
    {
      "cell_type": "code",
      "source": [
        "test_X, test_Y = next(val_data_generator.flow_from_dataframe( \n",
        "                            val_df, \n",
        "                            directory = (os.path.join(path,'boneage_validation_dataset/')),\n",
        "                            x_col = 'id',\n",
        "                            y_col = 'bone_age_z', \n",
        "                            target_size = (img_size, img_size),\n",
        "                            batch_size = 2523,\n",
        "                            class_mode = 'raw'\n",
        "                            )) "
      ],
      "metadata": {
        "id": "gZh7uwlI_7_D"
      },
      "execution_count": null,
      "outputs": []
    },
    {
      "cell_type": "code",
      "source": [],
      "metadata": {
        "id": "uIdfryfRDPey"
      },
      "execution_count": null,
      "outputs": []
    },
    {
      "cell_type": "markdown",
      "source": [
        "#Model"
      ],
      "metadata": {
        "id": "IuzKPhO3QgrW"
      }
    },
    {
      "cell_type": "code",
      "source": [
        "import os\n",
        "import numpy as np\n",
        "import pandas as pd\n",
        "from PIL import Image\n",
        "\n",
        "import matplotlib.pyplot as plt\n",
        "from torchvision.io import read_image\n",
        "from torch.utils.data import Dataset\n",
        "from sklearn.model_selection import train_test_split\n",
        "from torch.utils.data import DataLoader"
      ],
      "metadata": {
        "id": "OIaMZf1sQgVY"
      },
      "execution_count": null,
      "outputs": []
    },
    {
      "cell_type": "code",
      "source": [
        "# Load in relevant libraries, and alias where appropriate\n",
        "import torch\n",
        "import torch.nn as nn\n",
        "import torchvision\n",
        "import torchvision.transforms as transforms"
      ],
      "metadata": {
        "id": "2U8d4xDbRTNM"
      },
      "execution_count": null,
      "outputs": []
    },
    {
      "cell_type": "code",
      "source": [
        "import torch.nn.functional as F\n",
        "import matplotlib.pyplot as plt\n",
        "from torch.autograd import Variable"
      ],
      "metadata": {
        "id": "uoTFOspOYF5h"
      },
      "execution_count": null,
      "outputs": []
    },
    {
      "cell_type": "code",
      "source": [
        "# Define relevant variables for the ML task\n",
        "START_EPOCH=0\n",
        "NUM_EPOCHS=60\n",
        "LR=0.0001\n",
        "PATIENCE=2\n",
        "BATCH_SIZE=20\n",
        "NUM_WORKERS=0\n",
        "NUM_GPUS=1\n",
        "GPUS=0"
      ],
      "metadata": {
        "id": "V9RFpmGfQgR6"
      },
      "execution_count": null,
      "outputs": []
    },
    {
      "cell_type": "code",
      "source": [
        "# Device will determine whether to run the training on GPU or CPU.\n",
        "#device = torch.device('cuda' if torch.cuda.is_available() else 'GPU')\n"
      ],
      "metadata": {
        "id": "X9e1QbixQgPN"
      },
      "execution_count": null,
      "outputs": []
    },
    {
      "cell_type": "code",
      "source": [
        "if torch.cuda.is_available():\n",
        "    device = torch.device('cpu')\n",
        "else:\n",
        "    device = torch.device('gpu')"
      ],
      "metadata": {
        "id": "22f-ZTh1ELAm"
      },
      "execution_count": null,
      "outputs": []
    },
    {
      "cell_type": "code",
      "source": [
        "import torchvision.datasets as datasets\n",
        "from torch.autograd import Variable"
      ],
      "metadata": {
        "id": "V2kX66sQ41Eh"
      },
      "execution_count": null,
      "outputs": []
    },
    {
      "cell_type": "code",
      "source": [
        "# Dataloaders\n",
        "train_transform = transforms.Compose([transforms.Resize((256, 256)),\n",
        "                               transforms.RandomAffine(\n",
        "                                   20, translate=(0.2, 0.2),\n",
        "                                   scale=(1, 1.2)),\n",
        "                               transforms.RandomHorizontalFlip(),\n",
        "                               transforms.ToTensor()])\n",
        "\n",
        "val_transform = transforms.Compose([transforms.Resize((256, 256)),\n",
        "                               transforms.ToTensor()])"
      ],
      "metadata": {
        "id": "iUE9yp6e43jj"
      },
      "execution_count": null,
      "outputs": []
    },
    {
      "cell_type": "code",
      "source": [
        "# Instantiate loader objects to facilitate processing\n",
        "train_loader = torch.utils.data.DataLoader(dataset = train_generator,\n",
        "                                           batch_size = BATCH_SIZE,\n",
        "                                           shuffle = True)\n",
        "\n",
        "train_loader"
      ],
      "metadata": {
        "id": "tWNNSVirNnMc"
      },
      "execution_count": null,
      "outputs": []
    },
    {
      "cell_type": "code",
      "source": [
        "val_loader = torch.utils.data.DataLoader(dataset = val_generator,\n",
        "                                           batch_size = BATCH_SIZE,\n",
        "                                           shuffle = True)\n",
        "val_loader"
      ],
      "metadata": {
        "id": "Vcmn1YLNSBaN"
      },
      "execution_count": null,
      "outputs": []
    },
    {
      "cell_type": "code",
      "source": [
        "test_loader = torch.utils.data.DataLoader(dataset = test_generator,\n",
        "                                           batch_size = BATCH_SIZE,\n",
        "                                           shuffle = True)\n",
        "test_loader"
      ],
      "metadata": {
        "id": "N8MD-9lQSQXd"
      },
      "execution_count": null,
      "outputs": []
    },
    {
      "cell_type": "code",
      "source": [
        "Sample_X_data = Variable(torch.Tensor(train_X))"
      ],
      "metadata": {
        "id": "PRKk8-Uu451Z"
      },
      "execution_count": null,
      "outputs": []
    },
    {
      "cell_type": "code",
      "source": [
        "Sample_X_data.info()"
      ],
      "metadata": {
        "id": "LzExEmkMPT8S"
      },
      "execution_count": null,
      "outputs": []
    },
    {
      "cell_type": "code",
      "source": [
        "Sample_Y_data = Variable(torch.Tensor(test_Y))"
      ],
      "metadata": {
        "id": "s2zpw31a_kEZ"
      },
      "execution_count": null,
      "outputs": []
    },
    {
      "cell_type": "code",
      "source": [
        "class Net(nn.Module):\n",
        "   def __init__(self):\n",
        "       super(Net, self).__init__()\n",
        "       self.layer = torch.nn.Linear(1, 1)\n",
        "\n",
        "   def forward(self, x):\n",
        "       x = self.layer(x)      \n",
        "       return x\n",
        "\n",
        "net = Net()\n",
        "print(net)"
      ],
      "metadata": {
        "id": "FrngQnFdsCbl"
      },
      "execution_count": null,
      "outputs": []
    },
    {
      "cell_type": "code",
      "source": [
        "class NeuralNetwork(nn.Module):\n",
        "    def __init__(self):\n",
        "        super(NeuralNetwork, self).__init__()\n",
        "        self.image_features_ = nn.Sequential(\n",
        "            nn.Conv2d(3, 16, kernel_size=5, stride=2, padding=2),\n",
        "            nn.ReLU(inplace=True),\n",
        "            nn.MaxPool2d(kernel_size=3, stride=2),\n",
        "            nn.Dropout(),\n",
        "            nn.Conv2d(16, 128, kernel_size=5, padding=2),\n",
        "            nn.ReLU(inplace=True),\n",
        "            nn.MaxPool2d(kernel_size=3, stride=2),\n",
        "            nn.Dropout(),\n",
        "            nn.Conv2d(128, 256, kernel_size=5, padding=2),\n",
        "            nn.ReLU(inplace=True),\n",
        "            nn.MaxPool2d(kernel_size=3, stride=2),\n",
        "            nn.Dropout(),\n",
        "            nn.Conv2d(256, 128, kernel_size=5, padding=2),\n",
        "            nn.ReLU(inplace=True),\n",
        "            nn.MaxPool2d(kernel_size=3, stride=2),\n",
        "            nn.Conv2d(128, 64, kernel_size=5, padding=2),\n",
        "            nn.ReLU(inplace=True),\n",
        "            nn.MaxPool2d(kernel_size=2, stride=2),\n",
        "        )\n",
        "        self.numeric_features_ = nn.Sequential(\n",
        "             nn.Linear(9, 64),\n",
        "            nn.ReLU(inplace=True),\n",
        "            nn.Dropout(),\n",
        "            nn.Linear(64, 64*3),\n",
        "            nn.ReLU(inplace=True),\n",
        "            nn.Dropout(),\n",
        "            nn.Linear(64*3, 64*3*3),\n",
        "            nn.ReLU(inplace=True),\n",
        "        )\n",
        "        self.combined_features_ = nn.Sequential(\n",
        "            nn.Linear(64*3*3*2, 64*3*3*2*2),\n",
        "            nn.ReLU(inplace=True),\n",
        "            nn.Dropout(),\n",
        "            nn.Linear(64*3*3*2*2, 64*3*3*2),\n",
        "            nn.ReLU(inplace=True),\n",
        "            nn.Linear(64*3*3*2, 64),\n",
        "            nn.Linear(64, 5),\n",
        "        )\n",
        "\n",
        "    def forward(self, x,y):\n",
        "        x = self.image_features_(x)\n",
        "        x=x.view(-1, 64*3*3)\n",
        "        y=self.numeric_features_(y)\n",
        "        z=torch.cat((x,y),1)\n",
        "        z=self.combined_features_(z)\n",
        "        return z"
      ],
      "metadata": {
        "id": "32Y7X_r7EDyI"
      },
      "execution_count": null,
      "outputs": []
    },
    {
      "cell_type": "code",
      "source": [
        "#device = 'cuda' if torch.cuda.is_available() else 'cpu'\n",
        "print('Using {} device'.format(device))\n",
        "model = NeuralNetwork().to(device)\n",
        "#optimizer=optim.Adam(model.parameters(),1e-3)\n",
        "#loss_fn=nn.CrossEntropyLoss()\n",
        "optimizer = torch.optim.SGD(model.parameters(), lr=LR)\n",
        "loss_func = torch.nn.MSELoss()\n",
        "criterion = nn.L1Loss()\n"
      ],
      "metadata": {
        "id": "cBdbAbaFESn1"
      },
      "execution_count": null,
      "outputs": []
    },
    {
      "cell_type": "code",
      "source": [
        "def test_loop(dataloader, model, loss_fn):\n",
        "    size = len(dataloader.dataset)\n",
        "    num_batches = len(dataloader)\n",
        "    test_loss, correct = 0, 0\n",
        "\n",
        "    with torch.no_grad():\n",
        "        for imgs,numeric_features, price in dataloader:\n",
        "            imgs=imgs.to(device)\n",
        "            numeric_features=numeric_features.to(device)\n",
        "            price = price.to(device)\n",
        "            pred = model(imgs,numeric_features)\n",
        "            test_loss += loss_fn(pred, price).item()\n",
        "            correct += (pred.argmax(1) == price).type(torch.float).sum().item()\n",
        "\n",
        "    test_loss /= num_batches\n",
        "    correct /= size\n",
        "    print(f\"Test Error: \\n Accuracy: {(100*correct):>0.1f}%, Avg loss: {test_loss:>8f} \\n\")"
      ],
      "metadata": {
        "id": "_fFCUoZzE-hb"
      },
      "execution_count": null,
      "outputs": []
    },
    {
      "cell_type": "code",
      "source": [
        "import torch\n",
        "import torch.nn as nn\n",
        "\n",
        "class NN(nn.Module):\n",
        "  def __init__(self):\n",
        "      super(NN, self).__init__()\n",
        "      \n",
        "      self.layer1 = nn.Sequential(\n",
        "          torch.nn.Conv2d(2,32,kernel_size=3,padding=1),\n",
        "          torch.nn.ReLU(),\n",
        "          torch.nn.MaxPool2d(2,2))\n",
        "\n",
        "      self.layer2 = nn.Sequential(\n",
        "          torch.nn.Conv2d(32,64,kernel_size=3,padding=1),\n",
        "          torch.nn.ReLU(),\n",
        "          torch.nn.MaxPool2d(2,2))\n",
        "      \n",
        "      self.layer3 = nn.Sequential(\n",
        "          torch.nn.Conv2d(64,128,kernel_size=3,padding=1),\n",
        "          torch.nn.ReLU(),\n",
        "          torch.nn.MaxPool2d(2,2,padding=1))\n",
        "      \n",
        "      self.flattened_tensor = nn.Flatten()\n",
        "\n",
        "      self.linear_layer = nn.Sequential(\n",
        "          torch.nn.Linear(128, 64),\n",
        "          torch.nn.ReLU(),\n",
        "          torch.nn.Linear(64,4)\n",
        "      )\n",
        "    \n",
        "  def forward(self, inp):\n",
        "    conv_output = self.layer3(self.layer2(self.layer1(inp)))\n",
        "    flattened_output = self.flattened_tensor(conv_output)\n",
        "    \n",
        "    transposed_matrix = torch.transpose(flattened_output, 0, 1)\n",
        "    \n",
        "    linear_output = self.linear_layer(transposed_matrix)\n",
        "    return linear_output\n",
        "\n",
        "model = NN()\n",
        "print(model)\n",
        "#output = model()"
      ],
      "metadata": {
        "id": "S_eYnj8d8uPB"
      },
      "execution_count": null,
      "outputs": []
    },
    {
      "cell_type": "code",
      "source": [
        "# Creating a CNN class\n",
        "class ConvNeuralNet(nn.Module):\n",
        "\t#  Determine what layers and their order in CNN object \n",
        "    def __init__(self, num_classes):\n",
        "        super(ConvNeuralNet, self).__init__()\n",
        "        self.conv_layer1 = nn.Conv2d(in_channels=3, out_channels=32, kernel_size=3)\n",
        "        self.conv_layer2 = nn.Conv2d(in_channels=32, out_channels=32, kernel_size=3)\n",
        "        self.max_pool1 = nn.MaxPool2d(kernel_size = 2, stride = 2)"
      ],
      "metadata": {
        "id": "KSvyycsasT0z"
      },
      "execution_count": null,
      "outputs": []
    },
    {
      "cell_type": "code",
      "source": [
        "class Net(nn.Module):\n",
        "    def __init__(self):\n",
        "        super(Net, self).__init__()\n",
        "        self.conv_layer1 = nn.Conv2d(in_channels=3, out_channels=32, kernel_size=3)\n",
        "        self.max_pool1 = nn.MaxPool2d(kernel_size = 2, stride = 2)\n",
        "\n",
        "        self.fc1 = nn.Linear(1600, 128)\n",
        "        self.relu1 = nn.ReLU()\n",
        "\n",
        "        # Progresses data across layers    \n",
        "    def forward(self, x):\n",
        "        out = self.conv_layer1(x)\n",
        "        out = self.max_pool1(out)\n",
        "                \n",
        "        out = out.reshape(out.size(0), -1)\n",
        "        \n",
        "        out = self.fc1(out)\n",
        "        out = self.relu1(out)\n",
        "        out = self.fc2(out)\n",
        "        return out\n",
        "net = Net()\n",
        "print(net)"
      ],
      "metadata": {
        "id": "tjjNGTXRZV0O"
      },
      "execution_count": null,
      "outputs": []
    },
    {
      "cell_type": "code",
      "source": [
        "# Define Optimizer and Loss Function\n",
        "optimizer = torch.optim.SGD(model.parameters(), lr=LR)\n",
        "loss_func = torch.nn.MSELoss()"
      ],
      "metadata": {
        "id": "gVFrF844UTf9"
      },
      "execution_count": null,
      "outputs": []
    },
    {
      "cell_type": "code",
      "source": [
        "#model = Net()\n",
        "criterion = nn.L1Loss()"
      ],
      "metadata": {
        "id": "sSP5-kkaa6Qk"
      },
      "execution_count": null,
      "outputs": []
    },
    {
      "cell_type": "markdown",
      "source": [
        "#Training"
      ],
      "metadata": {
        "id": "bb_9M0ubpuiF"
      }
    },
    {
      "cell_type": "code",
      "source": [
        "# We use the pre-defined number of epochs to determine how many iterations to train the network on\n",
        "for epoch in range(60):\n",
        "\t#Load in the data in batches using the train_loader object\n",
        "    for i, (images, labels) in enumerate(train_loader):  \n",
        "        # Move tensors to the configured device\n",
        "        images = images.to(device)\n",
        "        labels = labels.to(device)\n",
        "        \n",
        "        # Forward pass\n",
        "        outputs = model(images)\n",
        "        loss = criterion(outputs, labels)\n",
        "        \n",
        "        # Backward and optimize\n",
        "        optimizer.zero_grad()\n",
        "        loss.backward()\n",
        "        optimizer.step()\n",
        "\n",
        "    print('Epoch [{}/{}], Loss: {:.4f}'.format(epoch+1, NUM_EPOCHS, loss.item()))\n",
        "\n",
        "            \n",
        "            \n"
      ],
      "metadata": {
        "id": "6jl4LVsdtqkS"
      },
      "execution_count": null,
      "outputs": []
    },
    {
      "cell_type": "code",
      "source": [
        "loss_fn = torch.nn.CrossEntropyLoss()"
      ],
      "metadata": {
        "id": "MRlIpV4B51bO"
      },
      "execution_count": null,
      "outputs": []
    },
    {
      "cell_type": "code",
      "source": [
        "#def train_one_epoch(epoch_index, tb_writer):\n",
        "\n",
        "\n",
        "    # Here, we use enumerate(training_loader) instead of\n",
        "    # iter(training_loader) so that we can track the batch\n",
        "    # index and do some intra-epoch reporting\n",
        "for i, data in enumerate(train_loader):\n",
        "        # Every data instance is an input + label pair\n",
        "        inputs, labels = data\n",
        "\n",
        "        # Zero your gradients for every batch!\n",
        "        optimizer.zero_grad()\n",
        "\n",
        "        # Make predictions for this batch\n",
        "        outputs = model(inputs)\n",
        "\n",
        "        # Compute the loss and its gradients\n",
        "        loss = loss_fn(outputs, labels)\n",
        "        loss.backward()\n",
        "\n",
        "        # Adjust learning weights\n",
        "        optimizer.step()\n",
        "\n",
        "        # Gather data and report\n",
        "        #running_loss += loss.item()\n",
        "        #if i % 1000 == 999:\n",
        "        #    last_loss = running_loss / 1000 # loss per batch\n",
        "        #    print('  batch {} loss: {}'.format(i + 1, last_loss))\n",
        "        #    tb_x = epoch_index * len(train_loader) + i + 1\n",
        "        #    tb_writer.add_scalar('Loss/train', last_loss, tb_x)\n",
        "        #    running_loss = 0.\n",
        "print('Epoch [{}/{}], Loss: {:.4f}'.format(epoch+1, NUM_EPOCHS, loss.item()))\n",
        "    #return last_loss"
      ],
      "metadata": {
        "id": "2slyVMdH5qCI"
      },
      "execution_count": null,
      "outputs": []
    },
    {
      "cell_type": "code",
      "source": [
        "images = images.to(device)\n",
        "images"
      ],
      "metadata": {
        "id": "_WEmmwNiDcAH"
      },
      "execution_count": null,
      "outputs": []
    },
    {
      "cell_type": "code",
      "source": [
        "inputs = Variable(Sample_X_data)\n",
        "outputs = Variable(Sample_Y_data)\n",
        "for i in range(60):\n",
        "   prediction = Net(inputs)\n",
        "   loss = loss_func(prediction, outputs) \n",
        "   optimizer.zero_grad()\n",
        "   loss.backward()        \n",
        "   optimizer.step()       \n",
        "\n",
        "   if i % 10 == 0:\n",
        "       # plot and show learning process\n",
        "       plt.cla()\n",
        "       plt.scatter(Sample_X_data.data.numpy(), Sample_Y_data.data.numpy())\n",
        "       plt.plot(Sample_X_data.data.numpy(), prediction.data.numpy(), 'r-', lw=2)\n",
        "       plt.text(0.5, 0, 'Loss=%.4f' % loss.data.numpy(), fontdict={'size': 10, 'color':  'red'})\n",
        "       plt.pause(0.1)\n",
        "\n",
        "plt.show()"
      ],
      "metadata": {
        "id": "gBtoVh5dfxxc"
      },
      "execution_count": null,
      "outputs": []
    }
  ]
}