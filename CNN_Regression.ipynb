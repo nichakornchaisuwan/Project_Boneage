{
  "nbformat": 4,
  "nbformat_minor": 0,
  "metadata": {
    "colab": {
      "provenance": [],
      "authorship_tag": "ABX9TyP1h9t689sO/Jhi/0QWPr52",
      "include_colab_link": true
    },
    "kernelspec": {
      "name": "python3",
      "display_name": "Python 3"
    },
    "language_info": {
      "name": "python"
    },
    "accelerator": "GPU",
    "gpuClass": "standard"
  },
  "cells": [
    {
      "cell_type": "markdown",
      "metadata": {
        "id": "view-in-github",
        "colab_type": "text"
      },
      "source": [
        "<a href=\"https://colab.research.google.com/github/nichakornchaisuwan/Project_Boneage/blob/main/CNN_Regression.ipynb\" target=\"_parent\"><img src=\"https://colab.research.google.com/assets/colab-badge.svg\" alt=\"Open In Colab\"/></a>"
      ]
    },
    {
      "cell_type": "markdown",
      "source": [
        "# Load data"
      ],
      "metadata": {
        "id": "5cszBj1-cNtK"
      }
    },
    {
      "cell_type": "code",
      "execution_count": 1,
      "metadata": {
        "id": "maCx9DnmxBqM"
      },
      "outputs": [],
      "source": [
        "# This Python 3 environment comes with many helpful analytics libraries installed\n",
        "# It is defined by the kaggle/python docker image: https://github.com/kaggle/docker-python\n",
        "# For example, here's several helpful packages to load in \n",
        "\n",
        "import numpy as np # linear algebra # เป็นการ import numpy เพื่อเปิดใช้ฟังก์ชันในการทำงาน\n",
        "import pandas as pd # data processing, CSV file I/O (e.g. pd.read_csv) # เป็น library ในการจัดการ dataframe\n",
        "import tensorflow as tf #library สำหรับสร้าง machine learning models แบบ open source จาก Google\n",
        "import datetime,os # datetime ใช้ในการจัด format ของวัน-เวลาให้อยู่ในรูปแบบที่ต้องการ \n",
        "import math # เรียกใช้ module เพื่อคำนวณค่าต่างๆ \n",
        "import matplotlib.pyplot as plt # เป็น module พื้นฐานที่ใช้ในการสร้างกราฟของ python\n",
        "import seaborn as sns # เป็นฟังก์ชันเสริมที่ใช้สร้างกราฟให้มีความสวยงามมากขึ้น\n",
        "from sklearn.model_selection import train_test_split # เป็น library ในการพัฒนาโปรแกรมโดยใช้การเรียนรู้ของเครื่อง"
      ]
    },
    {
      "cell_type": "code",
      "source": [
        "from google.colab import drive # เชื่อม drive ของเรา ถ้าเชื่อมสำเร็จจะขึ้นคำว่าMounted at /content/drive \n",
        "drive.mount('/content/drive')"
      ],
      "metadata": {
        "colab": {
          "base_uri": "https://localhost:8080/"
        },
        "id": "uoMOfDLaxW-x",
        "outputId": "21ed7f72-5dc8-4494-b032-ed7403827c97"
      },
      "execution_count": 2,
      "outputs": [
        {
          "output_type": "stream",
          "name": "stdout",
          "text": [
            "Mounted at /content/drive\n"
          ]
        }
      ]
    },
    {
      "cell_type": "code",
      "source": [
        "import os # os จัดการเกี่ยวกับไฟล์ต่างๆ ในโฟล์เดอร์"
      ],
      "metadata": {
        "id": "25AwOX4IxYwA"
      },
      "execution_count": 3,
      "outputs": []
    },
    {
      "cell_type": "code",
      "source": [
        "path = '/content/drive/My Drive/Project_Boneage'  # ชี้ว่า data เราอยู่โฟล์เดอร์ไหน"
      ],
      "metadata": {
        "id": "0MS_drVCxbGo"
      },
      "execution_count": 4,
      "outputs": []
    },
    {
      "cell_type": "code",
      "source": [
        "#loading dataframes # เอาที่อยู่ของไฟล์เชื่อมกับที่อยู่ของไฟล์เรา โดยกำหนดชื่่อไฟล์ที่เราต้องการ\n",
        "train_path = os.path.join(path,'train.csv')\n",
        "train_df = pd.read_csv(train_path)\n",
        "val_path = os.path.join(path,'validation.csv')\n",
        "val_df = pd.read_csv(val_path)\n",
        "test_path = os.path.join(path,'boneage-test-dataset.csv')\n",
        "test_df = pd.read_csv(test_path)"
      ],
      "metadata": {
        "id": "fAgwPxnMxgX2"
      },
      "execution_count": 5,
      "outputs": []
    },
    {
      "cell_type": "code",
      "source": [
        "#appending file extension to id column for both training and testing dataframes\n",
        "# ต่อท้าย data ใน column 'id' ด้วย .png\n",
        "train_df['id'] = train_df['id'].apply(lambda x: str(x)+'.png') # ทำการเปลี่ยน type ใน column 'id' จาก int  เป็น string เพื่อให้สามารถต่อท้ายด้วย .png ได้ # ฟังก์ชันแลมบ์ดาเป็นฟังก์ชันที่ไม่ระบุตัวตนขนาดเล็ก\n",
        "val_df['id'] = val_df['id'].apply(lambda x: str(x)+'.png') \n",
        "test_df['Case ID'] = test_df['Case ID'].apply(lambda x: str(x)+'.png') \n",
        "\n",
        "train_df.head() # แสดงค่าของ train_df บางส่วน"
      ],
      "metadata": {
        "colab": {
          "base_uri": "https://localhost:8080/",
          "height": 206
        },
        "id": "qVgZC0uFxlqY",
        "outputId": "10b66c16-3c60-4f64-fdbe-95d27597e6ad"
      },
      "execution_count": 6,
      "outputs": [
        {
          "output_type": "execute_result",
          "data": {
            "text/plain": [
              "         id  boneage   male\n",
              "0  1377.png      180  False\n",
              "1  1378.png       12  False\n",
              "2  1379.png       94  False\n",
              "3  1380.png      120   True\n",
              "4  1381.png       82  False"
            ],
            "text/html": [
              "\n",
              "  <div id=\"df-0ecff37e-c315-4cd8-b976-ec3c3d8fcc9a\">\n",
              "    <div class=\"colab-df-container\">\n",
              "      <div>\n",
              "<style scoped>\n",
              "    .dataframe tbody tr th:only-of-type {\n",
              "        vertical-align: middle;\n",
              "    }\n",
              "\n",
              "    .dataframe tbody tr th {\n",
              "        vertical-align: top;\n",
              "    }\n",
              "\n",
              "    .dataframe thead th {\n",
              "        text-align: right;\n",
              "    }\n",
              "</style>\n",
              "<table border=\"1\" class=\"dataframe\">\n",
              "  <thead>\n",
              "    <tr style=\"text-align: right;\">\n",
              "      <th></th>\n",
              "      <th>id</th>\n",
              "      <th>boneage</th>\n",
              "      <th>male</th>\n",
              "    </tr>\n",
              "  </thead>\n",
              "  <tbody>\n",
              "    <tr>\n",
              "      <th>0</th>\n",
              "      <td>1377.png</td>\n",
              "      <td>180</td>\n",
              "      <td>False</td>\n",
              "    </tr>\n",
              "    <tr>\n",
              "      <th>1</th>\n",
              "      <td>1378.png</td>\n",
              "      <td>12</td>\n",
              "      <td>False</td>\n",
              "    </tr>\n",
              "    <tr>\n",
              "      <th>2</th>\n",
              "      <td>1379.png</td>\n",
              "      <td>94</td>\n",
              "      <td>False</td>\n",
              "    </tr>\n",
              "    <tr>\n",
              "      <th>3</th>\n",
              "      <td>1380.png</td>\n",
              "      <td>120</td>\n",
              "      <td>True</td>\n",
              "    </tr>\n",
              "    <tr>\n",
              "      <th>4</th>\n",
              "      <td>1381.png</td>\n",
              "      <td>82</td>\n",
              "      <td>False</td>\n",
              "    </tr>\n",
              "  </tbody>\n",
              "</table>\n",
              "</div>\n",
              "      <button class=\"colab-df-convert\" onclick=\"convertToInteractive('df-0ecff37e-c315-4cd8-b976-ec3c3d8fcc9a')\"\n",
              "              title=\"Convert this dataframe to an interactive table.\"\n",
              "              style=\"display:none;\">\n",
              "        \n",
              "  <svg xmlns=\"http://www.w3.org/2000/svg\" height=\"24px\"viewBox=\"0 0 24 24\"\n",
              "       width=\"24px\">\n",
              "    <path d=\"M0 0h24v24H0V0z\" fill=\"none\"/>\n",
              "    <path d=\"M18.56 5.44l.94 2.06.94-2.06 2.06-.94-2.06-.94-.94-2.06-.94 2.06-2.06.94zm-11 1L8.5 8.5l.94-2.06 2.06-.94-2.06-.94L8.5 2.5l-.94 2.06-2.06.94zm10 10l.94 2.06.94-2.06 2.06-.94-2.06-.94-.94-2.06-.94 2.06-2.06.94z\"/><path d=\"M17.41 7.96l-1.37-1.37c-.4-.4-.92-.59-1.43-.59-.52 0-1.04.2-1.43.59L10.3 9.45l-7.72 7.72c-.78.78-.78 2.05 0 2.83L4 21.41c.39.39.9.59 1.41.59.51 0 1.02-.2 1.41-.59l7.78-7.78 2.81-2.81c.8-.78.8-2.07 0-2.86zM5.41 20L4 18.59l7.72-7.72 1.47 1.35L5.41 20z\"/>\n",
              "  </svg>\n",
              "      </button>\n",
              "      \n",
              "  <style>\n",
              "    .colab-df-container {\n",
              "      display:flex;\n",
              "      flex-wrap:wrap;\n",
              "      gap: 12px;\n",
              "    }\n",
              "\n",
              "    .colab-df-convert {\n",
              "      background-color: #E8F0FE;\n",
              "      border: none;\n",
              "      border-radius: 50%;\n",
              "      cursor: pointer;\n",
              "      display: none;\n",
              "      fill: #1967D2;\n",
              "      height: 32px;\n",
              "      padding: 0 0 0 0;\n",
              "      width: 32px;\n",
              "    }\n",
              "\n",
              "    .colab-df-convert:hover {\n",
              "      background-color: #E2EBFA;\n",
              "      box-shadow: 0px 1px 2px rgba(60, 64, 67, 0.3), 0px 1px 3px 1px rgba(60, 64, 67, 0.15);\n",
              "      fill: #174EA6;\n",
              "    }\n",
              "\n",
              "    [theme=dark] .colab-df-convert {\n",
              "      background-color: #3B4455;\n",
              "      fill: #D2E3FC;\n",
              "    }\n",
              "\n",
              "    [theme=dark] .colab-df-convert:hover {\n",
              "      background-color: #434B5C;\n",
              "      box-shadow: 0px 1px 3px 1px rgba(0, 0, 0, 0.15);\n",
              "      filter: drop-shadow(0px 1px 2px rgba(0, 0, 0, 0.3));\n",
              "      fill: #FFFFFF;\n",
              "    }\n",
              "  </style>\n",
              "\n",
              "      <script>\n",
              "        const buttonEl =\n",
              "          document.querySelector('#df-0ecff37e-c315-4cd8-b976-ec3c3d8fcc9a button.colab-df-convert');\n",
              "        buttonEl.style.display =\n",
              "          google.colab.kernel.accessAllowed ? 'block' : 'none';\n",
              "\n",
              "        async function convertToInteractive(key) {\n",
              "          const element = document.querySelector('#df-0ecff37e-c315-4cd8-b976-ec3c3d8fcc9a');\n",
              "          const dataTable =\n",
              "            await google.colab.kernel.invokeFunction('convertToInteractive',\n",
              "                                                     [key], {});\n",
              "          if (!dataTable) return;\n",
              "\n",
              "          const docLinkHtml = 'Like what you see? Visit the ' +\n",
              "            '<a target=\"_blank\" href=https://colab.research.google.com/notebooks/data_table.ipynb>data table notebook</a>'\n",
              "            + ' to learn more about interactive tables.';\n",
              "          element.innerHTML = '';\n",
              "          dataTable['output_type'] = 'display_data';\n",
              "          await google.colab.output.renderOutput(dataTable, element);\n",
              "          const docLink = document.createElement('div');\n",
              "          docLink.innerHTML = docLinkHtml;\n",
              "          element.appendChild(docLink);\n",
              "        }\n",
              "      </script>\n",
              "    </div>\n",
              "  </div>\n",
              "  "
            ]
          },
          "metadata": {},
          "execution_count": 6
        }
      ]
    },
    {
      "cell_type": "code",
      "source": [
        "#finding out the number of male and female children in the dataset\n",
        "#creating a new column called gender to keep the gender of the child as a string\n",
        "train_df['gender'] = train_df['male'].apply(lambda x: 'male' if x else 'female') # ทำการเปลี่ยนค่าข้อมูล gender จาก true -> male, false -> female \n",
        "val_df['gender'] = val_df['male'].apply(lambda x: 'male' if x else 'female') # ทำการเปลี่ยนค่าข้อมูล gender จาก true -> male, false -> female \n"
      ],
      "metadata": {
        "id": "CQAq0OIxzxkz"
      },
      "execution_count": 7,
      "outputs": []
    },
    {
      "cell_type": "code",
      "source": [
        "mean_bone_age_train = train_df['boneage'].mean() \n",
        "std_bone_age_train = train_df['boneage'].std()\n",
        "train_df['bone_age_z'] = (train_df['boneage'] - mean_bone_age_train)/(std_bone_age_train)\n",
        "print(train_df.head())"
      ],
      "metadata": {
        "colab": {
          "base_uri": "https://localhost:8080/"
        },
        "id": "DQJ4DESA1B4i",
        "outputId": "5f2dee3c-3cd7-4d4a-9f6f-dca67beffa21"
      },
      "execution_count": 8,
      "outputs": [
        {
          "output_type": "stream",
          "name": "stdout",
          "text": [
            "         id  boneage   male  gender  bone_age_z\n",
            "0  1377.png      180  False  female    1.278306\n",
            "1  1378.png       12  False  female   -2.796338\n",
            "2  1379.png       94  False  female   -0.807524\n",
            "3  1380.png      120   True    male   -0.176924\n",
            "4  1381.png       82  False  female   -1.098570\n"
          ]
        }
      ]
    },
    {
      "cell_type": "code",
      "source": [
        "mean_bone_age_val = val_df['boneage'].mean() \n",
        "std_bone_age_val = val_df['boneage'].std()\n",
        "val_df['bone_age_z'] = (val_df['boneage'] - mean_bone_age_val)/(std_bone_age_val)\n",
        "print(val_df.head())"
      ],
      "metadata": {
        "colab": {
          "base_uri": "https://localhost:8080/"
        },
        "id": "LLxAXVnm1CXX",
        "outputId": "6e68688d-b4c3-40ec-80fe-c0c97e5e7372"
      },
      "execution_count": 9,
      "outputs": [
        {
          "output_type": "stream",
          "name": "stdout",
          "text": [
            "          id  boneage   male  gender  bone_age_z\n",
            "0  10186.png       10   True    male   -2.864366\n",
            "1  10758.png       15  False  female   -2.742400\n",
            "2  10860.png      180  False  female    1.282468\n",
            "3  10877.png      180  False  female    1.282468\n",
            "4  11008.png      180  False  female    1.282468\n"
          ]
        }
      ]
    },
    {
      "cell_type": "code",
      "source": [
        "#import matplotlib.image as mpimg #นำเข้า library ที่ใช้อ่านรูป\n",
        "#for filename, boneage, gender in train_df[['id','boneage','gender']].sample(10).values: #เป็นคำสั่งวนลูปเพื่อแสดงภาพ และข้อมูลของภาพที่เก็บไว้ใน Train_df (ชื่อ อายุ เพศ)\n",
        "#    img = mpimg.imread(os.path.join(path,'boneage-training-dataset-5261/')+ filename) # เป็นคำสั่งที่ใช้ในการนำรูปเข้ามา\n",
        "#    plt.imshow(img) # แสดงรูปภาพ\n",
        "#    plt.title('Image name:{}  Bone age: {} years  Gender: {}'.format(filename, boneage/12, gender)) # แสดงหัวเรื่องโดยบอกถึง ชื่อ อายุ(ปี) และเพศ ของแต่ละภาพ\n",
        "#    plt.axis('off')\n",
        "#    plt.show()"
      ],
      "metadata": {
        "id": "KdN27ZYXNHcD"
      },
      "execution_count": 10,
      "outputs": []
    },
    {
      "cell_type": "code",
      "source": [
        "#library required for image preprocessing \n",
        "from tensorflow.keras.preprocessing.image import ImageDataGenerator \n",
        "from  keras.applications.xception import preprocess_input"
      ],
      "metadata": {
        "id": "4zXcbVLjNmbz"
      },
      "execution_count": 11,
      "outputs": []
    },
    {
      "cell_type": "code",
      "source": [
        "#reducing down the size of the image \n",
        "img_size = 256 # ลดขนาดรูปภาพ"
      ],
      "metadata": {
        "id": "3L0IgQ-ONnfF"
      },
      "execution_count": 12,
      "outputs": []
    },
    {
      "cell_type": "code",
      "source": [
        "train_data_generator = ImageDataGenerator(preprocessing_function = preprocess_input)\n",
        "val_data_generator = ImageDataGenerator(preprocessing_function = preprocess_input)"
      ],
      "metadata": {
        "id": "71hkAmY1Nnbp"
      },
      "execution_count": 13,
      "outputs": []
    },
    {
      "cell_type": "code",
      "source": [
        "#train data generator\n",
        "train_generator = train_data_generator.flow_from_dataframe(\n",
        "    dataframe = train_df,\n",
        "     directory = (os.path.join(path,'boneage_training_dataset/')),\n",
        "    x_col= 'id',\n",
        "    y_col= 'bone_age_z',\n",
        "    batch_size = 32,\n",
        "    seed = 42,\n",
        "    shuffle = True,\n",
        "    class_mode= 'raw',\n",
        "    flip_vertical = True,\n",
        "    color_mode = 'rgb',\n",
        "    target_size = (img_size, img_size))"
      ],
      "metadata": {
        "colab": {
          "base_uri": "https://localhost:8080/"
        },
        "id": "Um-cUhuqNnZF",
        "outputId": "2cec726d-3ae2-4fc6-90cc-77724d3948bf"
      },
      "execution_count": 14,
      "outputs": [
        {
          "output_type": "stream",
          "name": "stdout",
          "text": [
            "Found 10089 validated image filenames.\n"
          ]
        }
      ]
    },
    {
      "cell_type": "code",
      "source": [
        "#validation data generator\n",
        "val_generator = val_data_generator.flow_from_dataframe(\n",
        "    dataframe = val_df,\n",
        "    directory = (os.path.join(path,'boneage_validation_dataset/')),\n",
        "    x_col = 'id',\n",
        "    y_col = 'bone_age_z',\n",
        "    batch_size = 32,\n",
        "    seed = 42,\n",
        "    shuffle = True,\n",
        "    class_mode = 'raw',\n",
        "    flip_vertical = True,\n",
        "    color_mode = 'rgb',\n",
        "    target_size = (img_size, img_size))"
      ],
      "metadata": {
        "colab": {
          "base_uri": "https://localhost:8080/"
        },
        "id": "Xm0jttibNnV9",
        "outputId": "c075c377-65cf-44b3-c352-e4f28f3edda1"
      },
      "execution_count": 29,
      "outputs": [
        {
          "output_type": "stream",
          "name": "stdout",
          "text": [
            "Found 2522 validated image filenames.\n"
          ]
        }
      ]
    },
    {
      "cell_type": "code",
      "source": [
        "#test data generator\n",
        "test_data_generator = ImageDataGenerator(preprocessing_function = preprocess_input)\n",
        "\n",
        "test_generator = test_data_generator.flow_from_directory(\n",
        "    directory = (os.path.join(path,'boneage-test-dataset/')),\n",
        "    target_size = (img_size,img_size),\n",
        "    shuffle = True,\n",
        "    class_mode = 'binary',classes=['.'],\n",
        "    color_mode = 'rgb')"
      ],
      "metadata": {
        "colab": {
          "base_uri": "https://localhost:8080/"
        },
        "id": "AD6HKsSuNnTQ",
        "outputId": "90820c36-4819-4c7d-83c6-64905961db6c"
      },
      "execution_count": 16,
      "outputs": [
        {
          "output_type": "stream",
          "name": "stdout",
          "text": [
            "Found 200 images belonging to 1 classes.\n"
          ]
        }
      ]
    },
    {
      "cell_type": "code",
      "source": [
        "test_X, test_Y = next(val_data_generator.flow_from_dataframe( \n",
        "                            val_df, \n",
        "                            directory = (os.path.join(path,'boneage_validation_dataset/')),\n",
        "                            x_col = 'id',\n",
        "                            y_col = 'bone_age_z', \n",
        "                            target_size = (img_size, img_size),\n",
        "                            batch_size = 2523,\n",
        "                            class_mode = 'raw'\n",
        "                            )) "
      ],
      "metadata": {
        "id": "gZh7uwlI_7_D",
        "outputId": "42f1610f-6bcc-42a7-9991-a3cdc2d043c8",
        "colab": {
          "base_uri": "https://localhost:8080/"
        }
      },
      "execution_count": 17,
      "outputs": [
        {
          "output_type": "stream",
          "name": "stdout",
          "text": [
            "Found 2522 validated image filenames.\n"
          ]
        }
      ]
    },
    {
      "cell_type": "markdown",
      "source": [
        "#Model"
      ],
      "metadata": {
        "id": "IuzKPhO3QgrW"
      }
    },
    {
      "cell_type": "code",
      "source": [
        "import os\n",
        "import numpy as np\n",
        "import pandas as pd\n",
        "from PIL import Image\n",
        "\n",
        "import matplotlib.pyplot as plt\n",
        "from torchvision.io import read_image\n",
        "from torch.utils.data import Dataset\n",
        "from sklearn.model_selection import train_test_split\n",
        "from torch.utils.data import DataLoader"
      ],
      "metadata": {
        "id": "OIaMZf1sQgVY"
      },
      "execution_count": 18,
      "outputs": []
    },
    {
      "cell_type": "code",
      "source": [
        "# Load in relevant libraries, and alias where appropriate\n",
        "import torch\n",
        "import torch.nn as nn\n",
        "import torchvision\n",
        "import torchvision.transforms as transforms"
      ],
      "metadata": {
        "id": "2U8d4xDbRTNM"
      },
      "execution_count": 19,
      "outputs": []
    },
    {
      "cell_type": "code",
      "source": [
        "import torch.nn.functional as F\n",
        "import matplotlib.pyplot as plt\n",
        "from torch.autograd import Variable"
      ],
      "metadata": {
        "id": "uoTFOspOYF5h"
      },
      "execution_count": 35,
      "outputs": []
    },
    {
      "cell_type": "code",
      "source": [
        "# Define relevant variables for the ML task\n",
        "START_EPOCH=0\n",
        "NUM_EPOCHS=60\n",
        "LR=0.0001\n",
        "PATIENCE=2\n",
        "BATCH_SIZE=20\n",
        "NUM_WORKERS=0\n",
        "NUM_GPUS=1\n",
        "GPUS=0"
      ],
      "metadata": {
        "id": "V9RFpmGfQgR6"
      },
      "execution_count": 20,
      "outputs": []
    },
    {
      "cell_type": "code",
      "source": [
        "# Device will determine whether to run the training on GPU or CPU.\n",
        "device = torch.device('cuda' if torch.cuda.is_available() else 'cpu')"
      ],
      "metadata": {
        "id": "X9e1QbixQgPN"
      },
      "execution_count": 22,
      "outputs": []
    },
    {
      "cell_type": "code",
      "source": [
        "import torchvision.datasets as datasets\n",
        "from torch.autograd import Variable"
      ],
      "metadata": {
        "id": "V2kX66sQ41Eh"
      },
      "execution_count": 23,
      "outputs": []
    },
    {
      "cell_type": "code",
      "source": [
        "# Dataloaders\n",
        "train_transform = transforms.Compose([transforms.Resize((256, 256)),\n",
        "                               transforms.RandomAffine(\n",
        "                                   20, translate=(0.2, 0.2),\n",
        "                                   scale=(1, 1.2)),\n",
        "                               transforms.RandomHorizontalFlip(),\n",
        "                               transforms.ToTensor()])\n",
        "\n",
        "val_transform = transforms.Compose([transforms.Resize((256, 256)),\n",
        "                               transforms.ToTensor()])"
      ],
      "metadata": {
        "id": "iUE9yp6e43jj"
      },
      "execution_count": 24,
      "outputs": []
    },
    {
      "cell_type": "code",
      "source": [
        "# Instantiate loader objects to facilitate processing\n",
        "train_loader = torch.utils.data.DataLoader(dataset = train_generator,\n",
        "                                           batch_size = BATCH_SIZE,\n",
        "                                           shuffle = True)\n",
        "\n",
        "train_loader"
      ],
      "metadata": {
        "id": "tWNNSVirNnMc",
        "outputId": "8f2f1f9e-ccd3-47da-ea9b-ec3b441f0552",
        "colab": {
          "base_uri": "https://localhost:8080/"
        }
      },
      "execution_count": 25,
      "outputs": [
        {
          "output_type": "execute_result",
          "data": {
            "text/plain": [
              "<torch.utils.data.dataloader.DataLoader at 0x7f8e21bfbb80>"
            ]
          },
          "metadata": {},
          "execution_count": 25
        }
      ]
    },
    {
      "cell_type": "code",
      "source": [
        "val_loader = torch.utils.data.DataLoader(dataset = val_generator,\n",
        "                                           batch_size = BATCH_SIZE,\n",
        "                                           shuffle = True)\n",
        "val_loader"
      ],
      "metadata": {
        "id": "Vcmn1YLNSBaN",
        "outputId": "e2da8bad-357a-407f-a5b7-b5db79f4978c",
        "colab": {
          "base_uri": "https://localhost:8080/"
        }
      },
      "execution_count": 26,
      "outputs": [
        {
          "output_type": "execute_result",
          "data": {
            "text/plain": [
              "<torch.utils.data.dataloader.DataLoader at 0x7f8e21bfcfd0>"
            ]
          },
          "metadata": {},
          "execution_count": 26
        }
      ]
    },
    {
      "cell_type": "code",
      "source": [
        "test_loader = torch.utils.data.DataLoader(dataset = test_generator,\n",
        "                                           batch_size = BATCH_SIZE,\n",
        "                                           shuffle = True)\n",
        "test_loader"
      ],
      "metadata": {
        "id": "N8MD-9lQSQXd",
        "outputId": "6be59704-2ed5-419f-b586-f280ce34fba4",
        "colab": {
          "base_uri": "https://localhost:8080/"
        }
      },
      "execution_count": 27,
      "outputs": [
        {
          "output_type": "execute_result",
          "data": {
            "text/plain": [
              "<torch.utils.data.dataloader.DataLoader at 0x7f8e21bf1be0>"
            ]
          },
          "metadata": {},
          "execution_count": 27
        }
      ]
    },
    {
      "cell_type": "code",
      "source": [
        "Sample_X_data = Variable(torch.Tensor(test_X))"
      ],
      "metadata": {
        "id": "PRKk8-Uu451Z"
      },
      "execution_count": 30,
      "outputs": []
    },
    {
      "cell_type": "code",
      "source": [
        "Sample_X_data"
      ],
      "metadata": {
        "id": "LzExEmkMPT8S",
        "outputId": "feb19fc1-b538-45c6-f60f-88a842c9a75c",
        "colab": {
          "base_uri": "https://localhost:8080/"
        }
      },
      "execution_count": 31,
      "outputs": [
        {
          "output_type": "execute_result",
          "data": {
            "text/plain": [
              "tensor([[[[-0.9059, -0.9059, -0.9059],\n",
              "          [-0.9137, -0.9137, -0.9137],\n",
              "          [-0.8980, -0.8980, -0.8980],\n",
              "          ...,\n",
              "          [-0.8902, -0.8902, -0.8902],\n",
              "          [-0.8902, -0.8902, -0.8902],\n",
              "          [-0.8745, -0.8745, -0.8745]],\n",
              "\n",
              "         [[-0.9059, -0.9059, -0.9059],\n",
              "          [-0.8980, -0.8980, -0.8980],\n",
              "          [-0.9059, -0.9059, -0.9059],\n",
              "          ...,\n",
              "          [-0.8824, -0.8824, -0.8824],\n",
              "          [-0.8745, -0.8745, -0.8745],\n",
              "          [-0.8902, -0.8902, -0.8902]],\n",
              "\n",
              "         [[-0.9059, -0.9059, -0.9059],\n",
              "          [-0.8980, -0.8980, -0.8980],\n",
              "          [-0.9059, -0.9059, -0.9059],\n",
              "          ...,\n",
              "          [-0.8745, -0.8745, -0.8745],\n",
              "          [-0.8824, -0.8824, -0.8824],\n",
              "          [-0.8824, -0.8824, -0.8824]],\n",
              "\n",
              "         ...,\n",
              "\n",
              "         [[-0.7961, -0.7961, -0.7961],\n",
              "          [-0.7961, -0.7961, -0.7961],\n",
              "          [-0.8039, -0.8039, -0.8039],\n",
              "          ...,\n",
              "          [-0.7961, -0.7961, -0.7961],\n",
              "          [-0.7961, -0.7961, -0.7961],\n",
              "          [-0.7882, -0.7882, -0.7882]],\n",
              "\n",
              "         [[-0.7961, -0.7961, -0.7961],\n",
              "          [-0.7961, -0.7961, -0.7961],\n",
              "          [-0.7961, -0.7961, -0.7961],\n",
              "          ...,\n",
              "          [-0.7804, -0.7804, -0.7804],\n",
              "          [-0.7882, -0.7882, -0.7882],\n",
              "          [-0.7882, -0.7882, -0.7882]],\n",
              "\n",
              "         [[-0.8118, -0.8118, -0.8118],\n",
              "          [-0.8118, -0.8118, -0.8118],\n",
              "          [-0.8039, -0.8039, -0.8039],\n",
              "          ...,\n",
              "          [-0.7882, -0.7882, -0.7882],\n",
              "          [-0.7961, -0.7961, -0.7961],\n",
              "          [-0.7725, -0.7725, -0.7725]]],\n",
              "\n",
              "\n",
              "        [[[-1.0000, -1.0000, -1.0000],\n",
              "          [-1.0000, -1.0000, -1.0000],\n",
              "          [-1.0000, -1.0000, -1.0000],\n",
              "          ...,\n",
              "          [-1.0000, -1.0000, -1.0000],\n",
              "          [-1.0000, -1.0000, -1.0000],\n",
              "          [-1.0000, -1.0000, -1.0000]],\n",
              "\n",
              "         [[-1.0000, -1.0000, -1.0000],\n",
              "          [-1.0000, -1.0000, -1.0000],\n",
              "          [-1.0000, -1.0000, -1.0000],\n",
              "          ...,\n",
              "          [-1.0000, -1.0000, -1.0000],\n",
              "          [-1.0000, -1.0000, -1.0000],\n",
              "          [-1.0000, -1.0000, -1.0000]],\n",
              "\n",
              "         [[-1.0000, -1.0000, -1.0000],\n",
              "          [-1.0000, -1.0000, -1.0000],\n",
              "          [-1.0000, -1.0000, -1.0000],\n",
              "          ...,\n",
              "          [-1.0000, -1.0000, -1.0000],\n",
              "          [-1.0000, -1.0000, -1.0000],\n",
              "          [-1.0000, -1.0000, -1.0000]],\n",
              "\n",
              "         ...,\n",
              "\n",
              "         [[-1.0000, -1.0000, -1.0000],\n",
              "          [-1.0000, -1.0000, -1.0000],\n",
              "          [-0.4196, -0.4196, -0.4196],\n",
              "          ...,\n",
              "          [-1.0000, -1.0000, -1.0000],\n",
              "          [-1.0000, -1.0000, -1.0000],\n",
              "          [-1.0000, -1.0000, -1.0000]],\n",
              "\n",
              "         [[-1.0000, -1.0000, -1.0000],\n",
              "          [-1.0000, -1.0000, -1.0000],\n",
              "          [-0.4510, -0.4510, -0.4510],\n",
              "          ...,\n",
              "          [-1.0000, -1.0000, -1.0000],\n",
              "          [-1.0000, -1.0000, -1.0000],\n",
              "          [-1.0000, -1.0000, -1.0000]],\n",
              "\n",
              "         [[-1.0000, -1.0000, -1.0000],\n",
              "          [-1.0000, -1.0000, -1.0000],\n",
              "          [-0.2471, -0.2471, -0.2471],\n",
              "          ...,\n",
              "          [-1.0000, -1.0000, -1.0000],\n",
              "          [-1.0000, -1.0000, -1.0000],\n",
              "          [-1.0000, -1.0000, -1.0000]]],\n",
              "\n",
              "\n",
              "        [[[ 0.6627,  0.6627,  0.6627],\n",
              "          [ 0.1686,  0.1686,  0.1686],\n",
              "          [-0.2471, -0.2471, -0.2471],\n",
              "          ...,\n",
              "          [-0.9216, -0.9216, -0.9216],\n",
              "          [-0.9294, -0.9294, -0.9294],\n",
              "          [-0.9137, -0.9137, -0.9137]],\n",
              "\n",
              "         [[ 0.6706,  0.6706,  0.6706],\n",
              "          [ 0.2157,  0.2157,  0.2157],\n",
              "          [-0.2471, -0.2471, -0.2471],\n",
              "          ...,\n",
              "          [-0.9216, -0.9216, -0.9216],\n",
              "          [-0.9294, -0.9294, -0.9294],\n",
              "          [-0.9137, -0.9137, -0.9137]],\n",
              "\n",
              "         [[ 0.6784,  0.6784,  0.6784],\n",
              "          [ 0.1608,  0.1608,  0.1608],\n",
              "          [-0.2392, -0.2392, -0.2392],\n",
              "          ...,\n",
              "          [-0.9294, -0.9294, -0.9294],\n",
              "          [-0.9059, -0.9059, -0.9059],\n",
              "          [-0.9216, -0.9216, -0.9216]],\n",
              "\n",
              "         ...,\n",
              "\n",
              "         [[ 1.0000,  1.0000,  1.0000],\n",
              "          [ 1.0000,  1.0000,  1.0000],\n",
              "          [ 1.0000,  1.0000,  1.0000],\n",
              "          ...,\n",
              "          [-0.9373, -0.9373, -0.9373],\n",
              "          [-0.9294, -0.9294, -0.9294],\n",
              "          [-0.9294, -0.9294, -0.9294]],\n",
              "\n",
              "         [[ 1.0000,  1.0000,  1.0000],\n",
              "          [ 1.0000,  1.0000,  1.0000],\n",
              "          [-0.5529, -0.5529, -0.5529],\n",
              "          ...,\n",
              "          [-0.9294, -0.9294, -0.9294],\n",
              "          [-0.9137, -0.9137, -0.9137],\n",
              "          [-0.9294, -0.9294, -0.9294]],\n",
              "\n",
              "         [[ 1.0000,  1.0000,  1.0000],\n",
              "          [ 1.0000,  1.0000,  1.0000],\n",
              "          [-0.2627, -0.2627, -0.2627],\n",
              "          ...,\n",
              "          [-0.9137, -0.9137, -0.9137],\n",
              "          [-0.9216, -0.9216, -0.9216],\n",
              "          [-0.9216, -0.9216, -0.9216]]],\n",
              "\n",
              "\n",
              "        ...,\n",
              "\n",
              "\n",
              "        [[[ 1.0000,  1.0000,  1.0000],\n",
              "          [ 1.0000,  1.0000,  1.0000],\n",
              "          [ 1.0000,  1.0000,  1.0000],\n",
              "          ...,\n",
              "          [ 1.0000,  1.0000,  1.0000],\n",
              "          [ 1.0000,  1.0000,  1.0000],\n",
              "          [ 1.0000,  1.0000,  1.0000]],\n",
              "\n",
              "         [[ 1.0000,  1.0000,  1.0000],\n",
              "          [ 0.7647,  0.7647,  0.7647],\n",
              "          [ 0.5922,  0.5922,  0.5922],\n",
              "          ...,\n",
              "          [ 1.0000,  1.0000,  1.0000],\n",
              "          [ 1.0000,  1.0000,  1.0000],\n",
              "          [ 1.0000,  1.0000,  1.0000]],\n",
              "\n",
              "         [[ 0.6549,  0.6549,  0.6549],\n",
              "          [ 0.1059,  0.1059,  0.1059],\n",
              "          [-0.1216, -0.1216, -0.1216],\n",
              "          ...,\n",
              "          [ 0.9686,  0.9686,  0.9686],\n",
              "          [ 0.9686,  0.9686,  0.9686],\n",
              "          [ 0.9765,  0.9765,  0.9765]],\n",
              "\n",
              "         ...,\n",
              "\n",
              "         [[-0.8824, -0.8824, -0.8824],\n",
              "          [-0.8902, -0.8902, -0.8902],\n",
              "          [-0.8980, -0.8980, -0.8980],\n",
              "          ...,\n",
              "          [-0.9137, -0.9137, -0.9137],\n",
              "          [-0.9137, -0.9137, -0.9137],\n",
              "          [-0.9137, -0.9137, -0.9137]],\n",
              "\n",
              "         [[-0.8824, -0.8824, -0.8824],\n",
              "          [-0.8902, -0.8902, -0.8902],\n",
              "          [-0.8902, -0.8902, -0.8902],\n",
              "          ...,\n",
              "          [-0.9137, -0.9137, -0.9137],\n",
              "          [-0.9137, -0.9137, -0.9137],\n",
              "          [-0.9137, -0.9137, -0.9137]],\n",
              "\n",
              "         [[-0.8824, -0.8824, -0.8824],\n",
              "          [-0.8980, -0.8980, -0.8980],\n",
              "          [-0.8980, -0.8980, -0.8980],\n",
              "          ...,\n",
              "          [-0.9137, -0.9137, -0.9137],\n",
              "          [-0.9137, -0.9137, -0.9137],\n",
              "          [-0.9059, -0.9059, -0.9059]]],\n",
              "\n",
              "\n",
              "        [[[-1.0000, -1.0000, -1.0000],\n",
              "          [-1.0000, -1.0000, -1.0000],\n",
              "          [-1.0000, -1.0000, -1.0000],\n",
              "          ...,\n",
              "          [-0.3490, -0.3490, -0.3490],\n",
              "          [-1.0000, -1.0000, -1.0000],\n",
              "          [-1.0000, -1.0000, -1.0000]],\n",
              "\n",
              "         [[-0.3804, -0.3804, -0.3804],\n",
              "          [-0.3647, -0.3647, -0.3647],\n",
              "          [-0.3490, -0.3490, -0.3490],\n",
              "          ...,\n",
              "          [-0.3882, -0.3882, -0.3882],\n",
              "          [-1.0000, -1.0000, -1.0000],\n",
              "          [-1.0000, -1.0000, -1.0000]],\n",
              "\n",
              "         [[-0.3804, -0.3804, -0.3804],\n",
              "          [-0.3725, -0.3725, -0.3725],\n",
              "          [-0.4118, -0.4118, -0.4118],\n",
              "          ...,\n",
              "          [-0.3647, -0.3647, -0.3647],\n",
              "          [-1.0000, -1.0000, -1.0000],\n",
              "          [-1.0000, -1.0000, -1.0000]],\n",
              "\n",
              "         ...,\n",
              "\n",
              "         [[-1.0000, -1.0000, -1.0000],\n",
              "          [-1.0000, -1.0000, -1.0000],\n",
              "          [-1.0000, -1.0000, -1.0000],\n",
              "          ...,\n",
              "          [-0.4902, -0.4902, -0.4902],\n",
              "          [-0.4431, -0.4431, -0.4431],\n",
              "          [-0.4510, -0.4510, -0.4510]],\n",
              "\n",
              "         [[-1.0000, -1.0000, -1.0000],\n",
              "          [-1.0000, -1.0000, -1.0000],\n",
              "          [-1.0000, -1.0000, -1.0000],\n",
              "          ...,\n",
              "          [-0.4980, -0.4980, -0.4980],\n",
              "          [-0.4588, -0.4588, -0.4588],\n",
              "          [-0.4902, -0.4902, -0.4902]],\n",
              "\n",
              "         [[-1.0000, -1.0000, -1.0000],\n",
              "          [-1.0000, -1.0000, -1.0000],\n",
              "          [-1.0000, -1.0000, -1.0000],\n",
              "          ...,\n",
              "          [-1.0000, -1.0000, -1.0000],\n",
              "          [-1.0000, -1.0000, -1.0000],\n",
              "          [-1.0000, -1.0000, -1.0000]]],\n",
              "\n",
              "\n",
              "        [[[-0.9608, -0.9608, -0.9608],\n",
              "          [-0.9608, -0.9608, -0.9608],\n",
              "          [-0.9608, -0.9608, -0.9608],\n",
              "          ...,\n",
              "          [-0.9216, -0.9216, -0.9216],\n",
              "          [-0.9294, -0.9294, -0.9294],\n",
              "          [-0.9294, -0.9294, -0.9294]],\n",
              "\n",
              "         [[-0.9608, -0.9608, -0.9608],\n",
              "          [-0.9608, -0.9608, -0.9608],\n",
              "          [-0.9608, -0.9608, -0.9608],\n",
              "          ...,\n",
              "          [-0.9294, -0.9294, -0.9294],\n",
              "          [-0.9216, -0.9216, -0.9216],\n",
              "          [-0.9294, -0.9294, -0.9294]],\n",
              "\n",
              "         [[-0.9608, -0.9608, -0.9608],\n",
              "          [-0.9529, -0.9529, -0.9529],\n",
              "          [-0.9686, -0.9686, -0.9686],\n",
              "          ...,\n",
              "          [-0.9373, -0.9373, -0.9373],\n",
              "          [-0.9373, -0.9373, -0.9373],\n",
              "          [-0.9451, -0.9451, -0.9451]],\n",
              "\n",
              "         ...,\n",
              "\n",
              "         [[-0.8980, -0.8980, -0.8980],\n",
              "          [-0.8980, -0.8980, -0.8980],\n",
              "          [-0.8980, -0.8980, -0.8980],\n",
              "          ...,\n",
              "          [-0.7490, -0.7490, -0.7490],\n",
              "          [-0.7333, -0.7333, -0.7333],\n",
              "          [-0.7333, -0.7333, -0.7333]],\n",
              "\n",
              "         [[-0.8902, -0.8902, -0.8902],\n",
              "          [-0.8980, -0.8980, -0.8980],\n",
              "          [-0.8902, -0.8902, -0.8902],\n",
              "          ...,\n",
              "          [-0.7412, -0.7412, -0.7412],\n",
              "          [-0.7490, -0.7490, -0.7490],\n",
              "          [-0.7255, -0.7255, -0.7255]],\n",
              "\n",
              "         [[-0.8824, -0.8824, -0.8824],\n",
              "          [-0.8824, -0.8824, -0.8824],\n",
              "          [-0.8824, -0.8824, -0.8824],\n",
              "          ...,\n",
              "          [-0.7333, -0.7333, -0.7333],\n",
              "          [-0.7333, -0.7333, -0.7333],\n",
              "          [-0.7255, -0.7255, -0.7255]]]])"
            ]
          },
          "metadata": {},
          "execution_count": 31
        }
      ]
    },
    {
      "cell_type": "code",
      "source": [
        "Sample_Y_data = Variable(torch.Tensor(test_Y))"
      ],
      "metadata": {
        "id": "s2zpw31a_kEZ"
      },
      "execution_count": 32,
      "outputs": []
    },
    {
      "cell_type": "code",
      "source": [
        "class Net(nn.Module):\n",
        "   def __init__(self):\n",
        "       super(Net, self).__init__()\n",
        "       self.layer = torch.nn.Linear(1, 1)\n",
        "\n",
        "   def forward(self, x):\n",
        "       x = self.layer(x)      \n",
        "       return x\n",
        "\n",
        "net = Net()\n",
        "print(net)"
      ],
      "metadata": {
        "id": "tjjNGTXRZV0O",
        "outputId": "66ffbc62-9e85-44f0-8779-043c7ec843e7",
        "colab": {
          "base_uri": "https://localhost:8080/"
        }
      },
      "execution_count": 33,
      "outputs": [
        {
          "output_type": "stream",
          "name": "stdout",
          "text": [
            "Net(\n",
            "  (layer): Linear(in_features=1, out_features=1, bias=True)\n",
            ")\n"
          ]
        }
      ]
    },
    {
      "cell_type": "code",
      "source": [
        "# Define Optimizer and Loss Function\n",
        "optimizer = torch.optim.SGD(net.parameters(), lr=LR)\n",
        "loss_func = torch.nn.MSELoss()"
      ],
      "metadata": {
        "id": "gVFrF844UTf9"
      },
      "execution_count": 34,
      "outputs": []
    },
    {
      "cell_type": "code",
      "source": [
        "model = Net()\n",
        "criterion = nn.L1Loss()"
      ],
      "metadata": {
        "id": "sSP5-kkaa6Qk"
      },
      "execution_count": 36,
      "outputs": []
    },
    {
      "cell_type": "markdown",
      "source": [
        "#Training"
      ],
      "metadata": {
        "id": "bb_9M0ubpuiF"
      }
    },
    {
      "cell_type": "code",
      "source": [
        "inputs = Variable(Sample_X_data)\n",
        "outputs = Variable(Sample_Y_data)\n",
        "for i in range(60):\n",
        "   prediction = Net(inputs)\n",
        "   loss = loss_func(prediction, outputs) \n",
        "   optimizer.zero_grad()\n",
        "   loss.backward()        \n",
        "   optimizer.step()       \n",
        "\n",
        "   if i % 10 == 0:\n",
        "       # plot and show learning process\n",
        "       plt.cla()\n",
        "       plt.scatter(Sample_X_data.data.numpy(), Sample_Y_data.data.numpy())\n",
        "       plt.plot(Sample_X_data.data.numpy(), prediction.data.numpy(), 'r-', lw=2)\n",
        "       plt.text(0.5, 0, 'Loss=%.4f' % loss.data.numpy(), fontdict={'size': 10, 'color':  'red'})\n",
        "       plt.pause(0.1)\n",
        "\n",
        "plt.show()"
      ],
      "metadata": {
        "id": "gBtoVh5dfxxc",
        "outputId": "d3206a17-5965-4457-902e-cc35b6a09e40",
        "colab": {
          "base_uri": "https://localhost:8080/",
          "height": 235
        }
      },
      "execution_count": 37,
      "outputs": [
        {
          "output_type": "error",
          "ename": "TypeError",
          "evalue": "ignored",
          "traceback": [
            "\u001b[0;31m---------------------------------------------------------------------------\u001b[0m",
            "\u001b[0;31mTypeError\u001b[0m                                 Traceback (most recent call last)",
            "\u001b[0;32m<ipython-input-37-be10d70a4f6b>\u001b[0m in \u001b[0;36m<module>\u001b[0;34m\u001b[0m\n\u001b[1;32m      2\u001b[0m \u001b[0moutputs\u001b[0m \u001b[0;34m=\u001b[0m \u001b[0mVariable\u001b[0m\u001b[0;34m(\u001b[0m\u001b[0mSample_Y_data\u001b[0m\u001b[0;34m)\u001b[0m\u001b[0;34m\u001b[0m\u001b[0;34m\u001b[0m\u001b[0m\n\u001b[1;32m      3\u001b[0m \u001b[0;32mfor\u001b[0m \u001b[0mi\u001b[0m \u001b[0;32min\u001b[0m \u001b[0mrange\u001b[0m\u001b[0;34m(\u001b[0m\u001b[0;36m60\u001b[0m\u001b[0;34m)\u001b[0m\u001b[0;34m:\u001b[0m\u001b[0;34m\u001b[0m\u001b[0;34m\u001b[0m\u001b[0m\n\u001b[0;32m----> 4\u001b[0;31m    \u001b[0mprediction\u001b[0m \u001b[0;34m=\u001b[0m \u001b[0mNet\u001b[0m\u001b[0;34m(\u001b[0m\u001b[0minputs\u001b[0m\u001b[0;34m)\u001b[0m\u001b[0;34m\u001b[0m\u001b[0;34m\u001b[0m\u001b[0m\n\u001b[0m\u001b[1;32m      5\u001b[0m    \u001b[0mloss\u001b[0m \u001b[0;34m=\u001b[0m \u001b[0mloss_func\u001b[0m\u001b[0;34m(\u001b[0m\u001b[0mprediction\u001b[0m\u001b[0;34m,\u001b[0m \u001b[0moutputs\u001b[0m\u001b[0;34m)\u001b[0m\u001b[0;34m\u001b[0m\u001b[0;34m\u001b[0m\u001b[0m\n\u001b[1;32m      6\u001b[0m    \u001b[0moptimizer\u001b[0m\u001b[0;34m.\u001b[0m\u001b[0mzero_grad\u001b[0m\u001b[0;34m(\u001b[0m\u001b[0;34m)\u001b[0m\u001b[0;34m\u001b[0m\u001b[0;34m\u001b[0m\u001b[0m\n",
            "\u001b[0;31mTypeError\u001b[0m: __init__() takes 1 positional argument but 2 were given"
          ]
        }
      ]
    }
  ]
}