{
  "nbformat": 4,
  "nbformat_minor": 0,
  "metadata": {
    "colab": {
      "provenance": [],
      "authorship_tag": "ABX9TyPAxgYQtTPjDOcZhA+wlX4s",
      "include_colab_link": true
    },
    "kernelspec": {
      "name": "python3",
      "display_name": "Python 3"
    },
    "language_info": {
      "name": "python"
    },
    "gpuClass": "standard",
    "widgets": {
      "application/vnd.jupyter.widget-state+json": {
        "25b0c8b7f34646e29ea05aaf5b9a7b97": {
          "model_module": "@jupyter-widgets/controls",
          "model_name": "HBoxModel",
          "model_module_version": "1.5.0",
          "state": {
            "_dom_classes": [],
            "_model_module": "@jupyter-widgets/controls",
            "_model_module_version": "1.5.0",
            "_model_name": "HBoxModel",
            "_view_count": null,
            "_view_module": "@jupyter-widgets/controls",
            "_view_module_version": "1.5.0",
            "_view_name": "HBoxView",
            "box_style": "",
            "children": [
              "IPY_MODEL_fa90f3688c8140ba8ae7fcdfec15a0e6",
              "IPY_MODEL_a714fd672a9046faacf8e8d1adc3c550",
              "IPY_MODEL_c785b68ee44149fb8e91eb5d7e712088"
            ],
            "layout": "IPY_MODEL_b2535b9ca8e14ca8a52ba97388b84cbe"
          }
        },
        "fa90f3688c8140ba8ae7fcdfec15a0e6": {
          "model_module": "@jupyter-widgets/controls",
          "model_name": "HTMLModel",
          "model_module_version": "1.5.0",
          "state": {
            "_dom_classes": [],
            "_model_module": "@jupyter-widgets/controls",
            "_model_module_version": "1.5.0",
            "_model_name": "HTMLModel",
            "_view_count": null,
            "_view_module": "@jupyter-widgets/controls",
            "_view_module_version": "1.5.0",
            "_view_name": "HTMLView",
            "description": "",
            "description_tooltip": null,
            "layout": "IPY_MODEL_e7a994995edd401484e6e4b61b65e4a2",
            "placeholder": "​",
            "style": "IPY_MODEL_06f998decd6047f4af1b50393ab2cde0",
            "value": "100%"
          }
        },
        "a714fd672a9046faacf8e8d1adc3c550": {
          "model_module": "@jupyter-widgets/controls",
          "model_name": "FloatProgressModel",
          "model_module_version": "1.5.0",
          "state": {
            "_dom_classes": [],
            "_model_module": "@jupyter-widgets/controls",
            "_model_module_version": "1.5.0",
            "_model_name": "FloatProgressModel",
            "_view_count": null,
            "_view_module": "@jupyter-widgets/controls",
            "_view_module_version": "1.5.0",
            "_view_name": "ProgressView",
            "bar_style": "success",
            "description": "",
            "description_tooltip": null,
            "layout": "IPY_MODEL_a146b696eebf4d26a689b64b0252de69",
            "max": 170498071,
            "min": 0,
            "orientation": "horizontal",
            "style": "IPY_MODEL_f79905e4e0824ea7be9eaa695ce630d2",
            "value": 170498071
          }
        },
        "c785b68ee44149fb8e91eb5d7e712088": {
          "model_module": "@jupyter-widgets/controls",
          "model_name": "HTMLModel",
          "model_module_version": "1.5.0",
          "state": {
            "_dom_classes": [],
            "_model_module": "@jupyter-widgets/controls",
            "_model_module_version": "1.5.0",
            "_model_name": "HTMLModel",
            "_view_count": null,
            "_view_module": "@jupyter-widgets/controls",
            "_view_module_version": "1.5.0",
            "_view_name": "HTMLView",
            "description": "",
            "description_tooltip": null,
            "layout": "IPY_MODEL_e4cc6ffe7dc4419989cc704a12e65330",
            "placeholder": "​",
            "style": "IPY_MODEL_7f60e7204e2c40d482b37249a795187c",
            "value": " 170498071/170498071 [00:11&lt;00:00, 16322697.17it/s]"
          }
        },
        "b2535b9ca8e14ca8a52ba97388b84cbe": {
          "model_module": "@jupyter-widgets/base",
          "model_name": "LayoutModel",
          "model_module_version": "1.2.0",
          "state": {
            "_model_module": "@jupyter-widgets/base",
            "_model_module_version": "1.2.0",
            "_model_name": "LayoutModel",
            "_view_count": null,
            "_view_module": "@jupyter-widgets/base",
            "_view_module_version": "1.2.0",
            "_view_name": "LayoutView",
            "align_content": null,
            "align_items": null,
            "align_self": null,
            "border": null,
            "bottom": null,
            "display": null,
            "flex": null,
            "flex_flow": null,
            "grid_area": null,
            "grid_auto_columns": null,
            "grid_auto_flow": null,
            "grid_auto_rows": null,
            "grid_column": null,
            "grid_gap": null,
            "grid_row": null,
            "grid_template_areas": null,
            "grid_template_columns": null,
            "grid_template_rows": null,
            "height": null,
            "justify_content": null,
            "justify_items": null,
            "left": null,
            "margin": null,
            "max_height": null,
            "max_width": null,
            "min_height": null,
            "min_width": null,
            "object_fit": null,
            "object_position": null,
            "order": null,
            "overflow": null,
            "overflow_x": null,
            "overflow_y": null,
            "padding": null,
            "right": null,
            "top": null,
            "visibility": null,
            "width": null
          }
        },
        "e7a994995edd401484e6e4b61b65e4a2": {
          "model_module": "@jupyter-widgets/base",
          "model_name": "LayoutModel",
          "model_module_version": "1.2.0",
          "state": {
            "_model_module": "@jupyter-widgets/base",
            "_model_module_version": "1.2.0",
            "_model_name": "LayoutModel",
            "_view_count": null,
            "_view_module": "@jupyter-widgets/base",
            "_view_module_version": "1.2.0",
            "_view_name": "LayoutView",
            "align_content": null,
            "align_items": null,
            "align_self": null,
            "border": null,
            "bottom": null,
            "display": null,
            "flex": null,
            "flex_flow": null,
            "grid_area": null,
            "grid_auto_columns": null,
            "grid_auto_flow": null,
            "grid_auto_rows": null,
            "grid_column": null,
            "grid_gap": null,
            "grid_row": null,
            "grid_template_areas": null,
            "grid_template_columns": null,
            "grid_template_rows": null,
            "height": null,
            "justify_content": null,
            "justify_items": null,
            "left": null,
            "margin": null,
            "max_height": null,
            "max_width": null,
            "min_height": null,
            "min_width": null,
            "object_fit": null,
            "object_position": null,
            "order": null,
            "overflow": null,
            "overflow_x": null,
            "overflow_y": null,
            "padding": null,
            "right": null,
            "top": null,
            "visibility": null,
            "width": null
          }
        },
        "06f998decd6047f4af1b50393ab2cde0": {
          "model_module": "@jupyter-widgets/controls",
          "model_name": "DescriptionStyleModel",
          "model_module_version": "1.5.0",
          "state": {
            "_model_module": "@jupyter-widgets/controls",
            "_model_module_version": "1.5.0",
            "_model_name": "DescriptionStyleModel",
            "_view_count": null,
            "_view_module": "@jupyter-widgets/base",
            "_view_module_version": "1.2.0",
            "_view_name": "StyleView",
            "description_width": ""
          }
        },
        "a146b696eebf4d26a689b64b0252de69": {
          "model_module": "@jupyter-widgets/base",
          "model_name": "LayoutModel",
          "model_module_version": "1.2.0",
          "state": {
            "_model_module": "@jupyter-widgets/base",
            "_model_module_version": "1.2.0",
            "_model_name": "LayoutModel",
            "_view_count": null,
            "_view_module": "@jupyter-widgets/base",
            "_view_module_version": "1.2.0",
            "_view_name": "LayoutView",
            "align_content": null,
            "align_items": null,
            "align_self": null,
            "border": null,
            "bottom": null,
            "display": null,
            "flex": null,
            "flex_flow": null,
            "grid_area": null,
            "grid_auto_columns": null,
            "grid_auto_flow": null,
            "grid_auto_rows": null,
            "grid_column": null,
            "grid_gap": null,
            "grid_row": null,
            "grid_template_areas": null,
            "grid_template_columns": null,
            "grid_template_rows": null,
            "height": null,
            "justify_content": null,
            "justify_items": null,
            "left": null,
            "margin": null,
            "max_height": null,
            "max_width": null,
            "min_height": null,
            "min_width": null,
            "object_fit": null,
            "object_position": null,
            "order": null,
            "overflow": null,
            "overflow_x": null,
            "overflow_y": null,
            "padding": null,
            "right": null,
            "top": null,
            "visibility": null,
            "width": null
          }
        },
        "f79905e4e0824ea7be9eaa695ce630d2": {
          "model_module": "@jupyter-widgets/controls",
          "model_name": "ProgressStyleModel",
          "model_module_version": "1.5.0",
          "state": {
            "_model_module": "@jupyter-widgets/controls",
            "_model_module_version": "1.5.0",
            "_model_name": "ProgressStyleModel",
            "_view_count": null,
            "_view_module": "@jupyter-widgets/base",
            "_view_module_version": "1.2.0",
            "_view_name": "StyleView",
            "bar_color": null,
            "description_width": ""
          }
        },
        "e4cc6ffe7dc4419989cc704a12e65330": {
          "model_module": "@jupyter-widgets/base",
          "model_name": "LayoutModel",
          "model_module_version": "1.2.0",
          "state": {
            "_model_module": "@jupyter-widgets/base",
            "_model_module_version": "1.2.0",
            "_model_name": "LayoutModel",
            "_view_count": null,
            "_view_module": "@jupyter-widgets/base",
            "_view_module_version": "1.2.0",
            "_view_name": "LayoutView",
            "align_content": null,
            "align_items": null,
            "align_self": null,
            "border": null,
            "bottom": null,
            "display": null,
            "flex": null,
            "flex_flow": null,
            "grid_area": null,
            "grid_auto_columns": null,
            "grid_auto_flow": null,
            "grid_auto_rows": null,
            "grid_column": null,
            "grid_gap": null,
            "grid_row": null,
            "grid_template_areas": null,
            "grid_template_columns": null,
            "grid_template_rows": null,
            "height": null,
            "justify_content": null,
            "justify_items": null,
            "left": null,
            "margin": null,
            "max_height": null,
            "max_width": null,
            "min_height": null,
            "min_width": null,
            "object_fit": null,
            "object_position": null,
            "order": null,
            "overflow": null,
            "overflow_x": null,
            "overflow_y": null,
            "padding": null,
            "right": null,
            "top": null,
            "visibility": null,
            "width": null
          }
        },
        "7f60e7204e2c40d482b37249a795187c": {
          "model_module": "@jupyter-widgets/controls",
          "model_name": "DescriptionStyleModel",
          "model_module_version": "1.5.0",
          "state": {
            "_model_module": "@jupyter-widgets/controls",
            "_model_module_version": "1.5.0",
            "_model_name": "DescriptionStyleModel",
            "_view_count": null,
            "_view_module": "@jupyter-widgets/base",
            "_view_module_version": "1.2.0",
            "_view_name": "StyleView",
            "description_width": ""
          }
        }
      }
    }
  },
  "cells": [
    {
      "cell_type": "markdown",
      "metadata": {
        "id": "view-in-github",
        "colab_type": "text"
      },
      "source": [
        "<a href=\"https://colab.research.google.com/github/nichakornchaisuwan/Project_Boneage/blob/main/CNN_Class.ipynb\" target=\"_parent\"><img src=\"https://colab.research.google.com/assets/colab-badge.svg\" alt=\"Open In Colab\"/></a>"
      ]
    },
    {
      "cell_type": "code",
      "execution_count": 1,
      "metadata": {
        "id": "xEpLOzQkXsb1"
      },
      "outputs": [],
      "source": [
        "# Load in relevant libraries, and alias where appropriate\n",
        "import torch\n",
        "import torch.nn as nn\n",
        "import torchvision\n",
        "import torchvision.transforms as transforms\n",
        "\n",
        "# Define relevant variables for the ML task\n",
        "batch_size = 64\n",
        "num_classes = 10\n",
        "learning_rate = 0.001\n",
        "num_epochs = 20\n",
        "\n",
        "# Device will determine whether to run the training on GPU or CPU.\n",
        "device = torch.device('cuda' if torch.cuda.is_available() else 'cpu')"
      ]
    },
    {
      "cell_type": "code",
      "source": [
        "# Use transforms.compose method to reformat images for modeling,\n",
        "# and save to variable all_transforms for later use\n",
        "all_transforms = transforms.Compose([transforms.Resize((32,32)),\n",
        "                                     transforms.ToTensor(),\n",
        "                                     transforms.Normalize(mean=[0.4914, 0.4822, 0.4465],\n",
        "                                                          std=[0.2023, 0.1994, 0.2010])\n",
        "                                     ])\n",
        "# Create Training dataset\n",
        "train_dataset = torchvision.datasets.CIFAR10(root = './data',\n",
        "                                             train = True,\n",
        "                                             transform = all_transforms,\n",
        "                                             download = True)\n",
        "\n",
        "# Create Testing dataset\n",
        "test_dataset = torchvision.datasets.CIFAR10(root = './data',\n",
        "                                            train = False,\n",
        "                                            transform = all_transforms,\n",
        "                                            download=True)\n",
        "\n",
        "# Instantiate loader objects to facilitate processing\n",
        "train_loader = torch.utils.data.DataLoader(dataset = train_dataset,\n",
        "                                           batch_size = batch_size,\n",
        "                                           shuffle = True)\n",
        "\n",
        "\n",
        "test_loader = torch.utils.data.DataLoader(dataset = test_dataset,\n",
        "                                           batch_size = batch_size,\n",
        "                                           shuffle = True)"
      ],
      "metadata": {
        "colab": {
          "base_uri": "https://localhost:8080/",
          "height": 101,
          "referenced_widgets": [
            "25b0c8b7f34646e29ea05aaf5b9a7b97",
            "fa90f3688c8140ba8ae7fcdfec15a0e6",
            "a714fd672a9046faacf8e8d1adc3c550",
            "c785b68ee44149fb8e91eb5d7e712088",
            "b2535b9ca8e14ca8a52ba97388b84cbe",
            "e7a994995edd401484e6e4b61b65e4a2",
            "06f998decd6047f4af1b50393ab2cde0",
            "a146b696eebf4d26a689b64b0252de69",
            "f79905e4e0824ea7be9eaa695ce630d2",
            "e4cc6ffe7dc4419989cc704a12e65330",
            "7f60e7204e2c40d482b37249a795187c"
          ]
        },
        "id": "hQwJkJ_XXwIL",
        "outputId": "b7644134-f78c-4e1e-843a-07bfaa87121c"
      },
      "execution_count": 2,
      "outputs": [
        {
          "output_type": "stream",
          "name": "stdout",
          "text": [
            "Downloading https://www.cs.toronto.edu/~kriz/cifar-10-python.tar.gz to ./data/cifar-10-python.tar.gz\n"
          ]
        },
        {
          "output_type": "display_data",
          "data": {
            "text/plain": [
              "  0%|          | 0/170498071 [00:00<?, ?it/s]"
            ],
            "application/vnd.jupyter.widget-view+json": {
              "version_major": 2,
              "version_minor": 0,
              "model_id": "25b0c8b7f34646e29ea05aaf5b9a7b97"
            }
          },
          "metadata": {}
        },
        {
          "output_type": "stream",
          "name": "stdout",
          "text": [
            "Extracting ./data/cifar-10-python.tar.gz to ./data\n",
            "Files already downloaded and verified\n"
          ]
        }
      ]
    },
    {
      "cell_type": "code",
      "source": [
        "# Creating a CNN class\n",
        "class ConvNeuralNet(nn.Module):\n",
        "\t#  Determine what layers and their order in CNN object \n",
        "    def __init__(self, num_classes):\n",
        "        super(ConvNeuralNet, self).__init__()\n",
        "        self.conv_layer1 = nn.Conv2d(in_channels=3, out_channels=32, kernel_size=3)\n",
        "        self.conv_layer2 = nn.Conv2d(in_channels=32, out_channels=32, kernel_size=3)\n",
        "        self.max_pool1 = nn.MaxPool2d(kernel_size = 2, stride = 2)\n",
        "        \n",
        "        self.conv_layer3 = nn.Conv2d(in_channels=32, out_channels=64, kernel_size=3)\n",
        "        self.conv_layer4 = nn.Conv2d(in_channels=64, out_channels=64, kernel_size=3)\n",
        "        self.max_pool2 = nn.MaxPool2d(kernel_size = 2, stride = 2)\n",
        "        \n",
        "        self.fc1 = nn.Linear(1600, 128)\n",
        "        self.relu1 = nn.ReLU()\n",
        "        self.fc2 = nn.Linear(128, num_classes)\n",
        "    \n",
        "    # Progresses data across layers    \n",
        "    def forward(self, x):\n",
        "        out = self.conv_layer1(x)\n",
        "        out = self.conv_layer2(out)\n",
        "        out = self.max_pool1(out)\n",
        "        \n",
        "        out = self.conv_layer3(out)\n",
        "        out = self.conv_layer4(out)\n",
        "        out = self.max_pool2(out)\n",
        "                \n",
        "        out = out.reshape(out.size(0), -1)\n",
        "        \n",
        "        out = self.fc1(out)\n",
        "        out = self.relu1(out)\n",
        "        out = self.fc2(out)\n",
        "        return out"
      ],
      "metadata": {
        "id": "r4Of7Qk2X4kE"
      },
      "execution_count": 3,
      "outputs": []
    },
    {
      "cell_type": "code",
      "source": [
        "model = ConvNeuralNet(num_classes)\n",
        "\n",
        "# Set Loss function with criterion\n",
        "criterion = nn.CrossEntropyLoss()\n",
        "\n",
        "# Set optimizer with optimizer\n",
        "optimizer = torch.optim.SGD(model.parameters(), lr=learning_rate, weight_decay = 0.005, momentum = 0.9)  \n",
        "\n",
        "total_step = len(train_loader)"
      ],
      "metadata": {
        "id": "ORvTK5xJX8la"
      },
      "execution_count": 4,
      "outputs": []
    },
    {
      "cell_type": "code",
      "source": [
        "total_step"
      ],
      "metadata": {
        "colab": {
          "base_uri": "https://localhost:8080/"
        },
        "id": "xKHV5DMBjsIj",
        "outputId": "98f551bc-436d-4cf3-b8b0-732ae1c67c4c"
      },
      "execution_count": 12,
      "outputs": [
        {
          "output_type": "execute_result",
          "data": {
            "text/plain": [
              "782"
            ]
          },
          "metadata": {},
          "execution_count": 12
        }
      ]
    },
    {
      "cell_type": "code",
      "source": [
        "# We use the pre-defined number of epochs to determine how many iterations to train the network on\n",
        "for epoch in range(num_epochs):\n",
        "\t#Load in the data in batches using the train_loader object\n",
        "    for i, (images, labels) in enumerate(train_loader):  \n",
        "        # Move tensors to the configured device\n",
        "        images = images.to(device)\n",
        "        labels = labels.to(device)\n",
        "        \n",
        "        # Forward pass\n",
        "        outputs = model(images)\n",
        "        loss = criterion(outputs, labels)\n",
        "        \n",
        "        # Backward and optimize\n",
        "        optimizer.zero_grad()\n",
        "        loss.backward()\n",
        "        optimizer.step()\n",
        "\n",
        "    print('Epoch [{}/{}], Loss: {:.4f}'.format(epoch+1, num_epochs, loss.item()))\n",
        "\n",
        "            \n",
        "            \n"
      ],
      "metadata": {
        "colab": {
          "base_uri": "https://localhost:8080/"
        },
        "id": "CnEnzczRX_Ql",
        "outputId": "2c08d890-ef8d-41a3-f591-19ea704e3af5"
      },
      "execution_count": 5,
      "outputs": [
        {
          "output_type": "stream",
          "name": "stdout",
          "text": [
            "Epoch [1/20], Loss: 1.3703\n",
            "Epoch [2/20], Loss: 1.5997\n",
            "Epoch [3/20], Loss: 1.6291\n",
            "Epoch [4/20], Loss: 1.3691\n",
            "Epoch [5/20], Loss: 0.9931\n",
            "Epoch [6/20], Loss: 0.6872\n",
            "Epoch [7/20], Loss: 0.9764\n",
            "Epoch [8/20], Loss: 0.9943\n",
            "Epoch [9/20], Loss: 0.9651\n",
            "Epoch [10/20], Loss: 1.1746\n",
            "Epoch [11/20], Loss: 0.6633\n",
            "Epoch [12/20], Loss: 0.7530\n",
            "Epoch [13/20], Loss: 0.7830\n",
            "Epoch [14/20], Loss: 0.5743\n",
            "Epoch [15/20], Loss: 0.8104\n",
            "Epoch [16/20], Loss: 0.5616\n",
            "Epoch [17/20], Loss: 0.6485\n",
            "Epoch [18/20], Loss: 0.5207\n",
            "Epoch [19/20], Loss: 0.5151\n",
            "Epoch [20/20], Loss: 1.0170\n"
          ]
        }
      ]
    },
    {
      "cell_type": "code",
      "source": [
        "with torch.no_grad():\n",
        "    correct = 0\n",
        "    total = 0\n",
        "    for images, labels in train_loader:\n",
        "        images = images.to(device)\n",
        "        labels = labels.to(device)\n",
        "        outputs = model(images)\n",
        "        _, predicted = torch.max(outputs.data, 1)\n",
        "        total += labels.size(0)\n",
        "        correct += (predicted == labels).sum().item()\n",
        "    \n",
        "    print('Accuracy of the network on the {} train images: {} %'.format(50000, 100 * correct / total))\n",
        "\n",
        "\n"
      ],
      "metadata": {
        "colab": {
          "base_uri": "https://localhost:8080/"
        },
        "id": "2RZlXR6gYB2J",
        "outputId": "d7917463-6b30-4377-d61a-e5b514360cf7"
      },
      "execution_count": 6,
      "outputs": [
        {
          "output_type": "stream",
          "name": "stdout",
          "text": [
            "Accuracy of the network on the 50000 train images: 83.886 %\n"
          ]
        }
      ]
    },
    {
      "cell_type": "code",
      "source": [
        "device"
      ],
      "metadata": {
        "colab": {
          "base_uri": "https://localhost:8080/"
        },
        "id": "3rlMxJd0jEkn",
        "outputId": "1f1ffc92-1866-4c0a-ff43-d817026bf97a"
      },
      "execution_count": 7,
      "outputs": [
        {
          "output_type": "execute_result",
          "data": {
            "text/plain": [
              "device(type='cpu')"
            ]
          },
          "metadata": {},
          "execution_count": 7
        }
      ]
    },
    {
      "cell_type": "code",
      "source": [
        "images"
      ],
      "metadata": {
        "colab": {
          "base_uri": "https://localhost:8080/"
        },
        "id": "FWL4qcyPjE5J",
        "outputId": "9c091e4e-0641-4a18-8adb-c8f97ccdd900"
      },
      "execution_count": 8,
      "outputs": [
        {
          "output_type": "execute_result",
          "data": {
            "text/plain": [
              "tensor([[[[ 1.5642e+00,  1.5061e+00,  8.2760e-01,  ...,  1.5836e+00,\n",
              "            1.6418e+00,  1.6805e+00],\n",
              "          [ 1.4867e+00,  1.4285e+00,  2.4605e-01,  ...,  1.5836e+00,\n",
              "            1.6418e+00,  1.6612e+00],\n",
              "          [ 1.8162e+00,  1.8356e+00,  9.4391e-01,  ...,  1.7581e+00,\n",
              "            1.6805e+00,  1.6418e+00],\n",
              "          ...,\n",
              "          [ 1.7581e+00,  1.7775e+00,  1.8744e+00,  ...,  1.8938e+00,\n",
              "            1.9325e+00,  1.9132e+00],\n",
              "          [ 1.7968e+00,  1.7775e+00,  1.9325e+00,  ...,  1.5642e+00,\n",
              "            1.6418e+00,  1.4867e+00],\n",
              "          [ 1.6418e+00,  1.7775e+00,  1.8356e+00,  ...,  1.3316e+00,\n",
              "            1.3704e+00,  1.1378e+00]],\n",
              "\n",
              "         [[ 1.4364e+00,  1.3381e+00,  5.5144e-01,  ...,  1.5348e+00,\n",
              "            1.5741e+00,  1.6134e+00],\n",
              "          [ 1.3971e+00,  1.2988e+00,  7.6703e-04,  ...,  1.4954e+00,\n",
              "            1.5741e+00,  1.5938e+00],\n",
              "          [ 1.5938e+00,  1.6331e+00,  7.2844e-01,  ...,  1.5938e+00,\n",
              "            1.5544e+00,  1.5348e+00],\n",
              "          ...,\n",
              "          [ 1.5348e+00,  1.5348e+00,  1.6528e+00,  ...,  1.6724e+00,\n",
              "            1.7118e+00,  1.7118e+00],\n",
              "          [ 1.5151e+00,  1.4758e+00,  1.6528e+00,  ...,  1.3971e+00,\n",
              "            1.4561e+00,  1.3578e+00],\n",
              "          [ 1.3971e+00,  1.4758e+00,  1.5938e+00,  ...,  1.2201e+00,\n",
              "            1.2004e+00,  1.0234e+00]],\n",
              "\n",
              "         [[ 6.4662e-01,  6.6613e-01,  8.0821e-02,  ...,  6.4662e-01,\n",
              "            7.0515e-01,  8.0270e-01],\n",
              "          [ 5.8809e-01,  6.2711e-01, -1.7281e-01,  ...,  7.0515e-01,\n",
              "            7.8319e-01,  8.2221e-01],\n",
              "          [ 9.3927e-01,  9.1976e-01,  3.1495e-01,  ...,  8.8074e-01,\n",
              "            8.0270e-01,  8.0270e-01],\n",
              "          ...,\n",
              "          [ 9.9781e-01,  9.9781e-01,  1.1149e+00,  ...,  1.1539e+00,\n",
              "            1.1344e+00,  1.0954e+00],\n",
              "          [ 9.5878e-01,  8.8074e-01,  1.0954e+00,  ...,  9.5878e-01,\n",
              "            9.1976e-01,  7.8319e-01],\n",
              "          [ 8.0270e-01,  8.8074e-01,  1.0563e+00,  ...,  7.6368e-01,\n",
              "            7.4417e-01,  5.4907e-01]]],\n",
              "\n",
              "\n",
              "        [[[ 1.0408e+00,  1.0796e+00,  1.1571e+00,  ...,  1.2928e+00,\n",
              "            1.2735e+00,  1.0021e+00],\n",
              "          [ 1.1959e+00,  1.1959e+00,  1.2541e+00,  ...,  1.3510e+00,\n",
              "            1.3316e+00,  1.0602e+00],\n",
              "          [ 1.2347e+00,  1.2347e+00,  1.2541e+00,  ...,  1.3704e+00,\n",
              "            1.3510e+00,  1.1184e+00],\n",
              "          ...,\n",
              "          [ 5.3683e-01,  4.0113e-01,  4.0113e-01,  ...,  6.7252e-01,\n",
              "            5.7560e-01,  5.3683e-01],\n",
              "          [ 3.8175e-01,  3.6236e-01,  3.8175e-01,  ...,  6.5314e-01,\n",
              "            6.1437e-01,  6.1437e-01],\n",
              "          [ 9.0974e-02,  1.2974e-01,  2.4605e-01,  ...,  5.5621e-01,\n",
              "            5.5621e-01,  4.9806e-01]],\n",
              "\n",
              "         [[ 1.2791e+00,  1.2594e+00,  1.2988e+00,  ...,  1.4364e+00,\n",
              "            1.4168e+00,  1.1808e+00],\n",
              "          [ 1.3381e+00,  1.3381e+00,  1.3971e+00,  ...,  1.4954e+00,\n",
              "            1.4758e+00,  1.2398e+00],\n",
              "          [ 1.3578e+00,  1.3774e+00,  1.3971e+00,  ...,  1.5151e+00,\n",
              "            1.4954e+00,  1.2201e+00],\n",
              "          ...,\n",
              "          [-1.5657e-01, -3.1390e-01, -3.1390e-01,  ..., -7.7900e-02,\n",
              "           -5.8233e-02, -7.7900e-02],\n",
              "          [-2.7457e-01, -2.9424e-01, -3.1390e-01,  ..., -7.7900e-02,\n",
              "           -1.8900e-02, -1.8900e-02],\n",
              "          [-4.9090e-01, -4.9090e-01, -4.1224e-01,  ..., -7.7900e-02,\n",
              "           -7.7900e-02, -1.1723e-01]],\n",
              "\n",
              "         [[ 1.3880e+00,  1.3880e+00,  1.4465e+00,  ...,  1.5831e+00,\n",
              "            1.5441e+00,  1.2319e+00],\n",
              "          [ 1.4856e+00,  1.4856e+00,  1.5441e+00,  ...,  1.6416e+00,\n",
              "            1.6221e+00,  1.2905e+00],\n",
              "          [ 1.5051e+00,  1.5246e+00,  1.5441e+00,  ...,  1.6612e+00,\n",
              "            1.6416e+00,  1.3100e+00],\n",
              "          ...,\n",
              "          [-1.3239e+00, -1.4410e+00, -1.4605e+00,  ..., -1.2069e+00,\n",
              "           -1.1093e+00, -1.1483e+00],\n",
              "          [-1.4020e+00, -1.4215e+00, -1.3825e+00,  ..., -1.1678e+00,\n",
              "           -1.0703e+00, -1.0703e+00],\n",
              "          [-1.5580e+00, -1.5580e+00, -1.4215e+00,  ..., -1.1483e+00,\n",
              "           -1.1288e+00, -1.1873e+00]]],\n",
              "\n",
              "\n",
              "        [[[-1.5567e+00, -1.4986e+00, -1.4404e+00,  ..., -1.9251e+00,\n",
              "           -1.9444e+00, -2.1771e+00],\n",
              "          [-1.4792e+00, -1.4211e+00, -1.3241e+00,  ..., -2.0995e+00,\n",
              "           -2.0414e+00, -2.0220e+00],\n",
              "          [-1.5374e+00, -1.4986e+00, -1.4598e+00,  ..., -2.0995e+00,\n",
              "           -2.1189e+00, -2.1189e+00],\n",
              "          ...,\n",
              "          [-2.2546e+00, -2.0801e+00, -1.4986e+00,  ..., -2.4097e+00,\n",
              "           -2.4097e+00, -2.4097e+00],\n",
              "          [-2.0995e+00, -1.7894e+00, -1.4792e+00,  ..., -2.3903e+00,\n",
              "           -2.4097e+00, -2.4097e+00],\n",
              "          [-1.9832e+00, -1.6731e+00, -1.3047e+00,  ..., -2.3903e+00,\n",
              "           -2.4097e+00, -2.4097e+00]],\n",
              "\n",
              "         [[-1.3562e+00, -1.2972e+00, -1.2186e+00,  ..., -1.8086e+00,\n",
              "           -1.7692e+00, -2.1036e+00],\n",
              "          [-1.2972e+00, -1.2186e+00, -1.0809e+00,  ..., -2.0053e+00,\n",
              "           -1.9266e+00, -1.9266e+00],\n",
              "          [-1.3759e+00, -1.3169e+00, -1.2186e+00,  ..., -2.0249e+00,\n",
              "           -2.0446e+00, -2.0446e+00],\n",
              "          ...,\n",
              "          [-2.3003e+00, -2.1823e+00, -1.9069e+00,  ..., -2.3986e+00,\n",
              "           -2.4183e+00, -2.3986e+00],\n",
              "          [-2.1429e+00, -1.9266e+00, -1.8676e+00,  ..., -2.3986e+00,\n",
              "           -2.4183e+00, -2.4183e+00],\n",
              "          [-2.0839e+00, -1.8873e+00, -1.7496e+00,  ..., -2.3789e+00,\n",
              "           -2.3986e+00, -2.4183e+00]],\n",
              "\n",
              "         [[-2.1183e-01, -1.7281e-01, -1.1428e-01,  ..., -1.2459e+00,\n",
              "           -1.2654e+00, -1.7141e+00],\n",
              "          [-3.6240e-02,  8.0821e-02,  2.1739e-01,  ..., -1.5580e+00,\n",
              "           -1.4215e+00, -1.4020e+00],\n",
              "          [-1.5330e-01, -7.5261e-02,  2.7802e-03,  ..., -1.6166e+00,\n",
              "           -1.6166e+00, -1.5971e+00],\n",
              "          ...,\n",
              "          [-1.9287e+00, -1.7922e+00, -1.5971e+00,  ..., -2.1434e+00,\n",
              "           -2.1629e+00, -2.1629e+00],\n",
              "          [-1.6751e+00, -1.3434e+00, -1.4605e+00,  ..., -2.1043e+00,\n",
              "           -2.1238e+00, -2.1238e+00],\n",
              "          [-1.4800e+00, -1.2849e+00, -1.2459e+00,  ..., -2.0848e+00,\n",
              "           -2.1043e+00, -2.1043e+00]]],\n",
              "\n",
              "\n",
              "        ...,\n",
              "\n",
              "\n",
              "        [[[-2.2546e+00, -1.7118e+00, -9.7520e-01,  ..., -2.3709e+00,\n",
              "           -2.3709e+00, -2.3903e+00],\n",
              "          [-2.1964e+00, -1.1690e+00, -9.7520e-01,  ..., -2.3515e+00,\n",
              "           -2.3709e+00, -2.3903e+00],\n",
              "          [-1.9057e+00, -8.7827e-01, -9.9458e-01,  ..., -2.3321e+00,\n",
              "           -2.3515e+00, -2.3709e+00],\n",
              "          ...,\n",
              "          [ 2.2667e-01,  1.2974e-01,  3.8175e-01,  ...,  1.2974e-01,\n",
              "           -1.8042e-01, -2.5796e-01],\n",
              "          [-8.3491e-02, -4.4721e-02,  1.4913e-01,  ..., -4.4721e-02,\n",
              "           -4.4721e-02, -2.3857e-01],\n",
              "          [-1.4165e-01, -8.3491e-02, -2.9672e-01,  ..., -2.5336e-02,\n",
              "            1.1036e-01, -5.9512e-03]],\n",
              "\n",
              "         [[-2.2609e+00, -1.9463e+00, -1.4349e+00,  ..., -2.3593e+00,\n",
              "           -2.3789e+00, -2.3789e+00],\n",
              "          [-2.2216e+00, -1.5726e+00, -1.4939e+00,  ..., -2.3593e+00,\n",
              "           -2.3789e+00, -2.3789e+00],\n",
              "          [-2.0053e+00, -1.3759e+00, -1.5332e+00,  ..., -2.3396e+00,\n",
              "           -2.3593e+00, -2.3593e+00],\n",
              "          ...,\n",
              "          [-5.4990e-01, -6.6791e-01, -3.7290e-01,  ..., -6.8757e-01,\n",
              "           -9.8258e-01, -1.0416e+00],\n",
              "          [-8.8424e-01, -9.0391e-01, -6.6791e-01,  ..., -8.4491e-01,\n",
              "           -8.2524e-01, -1.0219e+00],\n",
              "          [-9.0391e-01, -9.2357e-01, -1.0612e+00,  ..., -7.8591e-01,\n",
              "           -6.0891e-01, -7.6624e-01]],\n",
              "\n",
              "         [[-2.0848e+00, -1.8897e+00, -1.5580e+00,  ..., -2.2019e+00,\n",
              "           -2.2214e+00, -2.2214e+00],\n",
              "          [-2.0653e+00, -1.6751e+00, -1.6556e+00,  ..., -2.2019e+00,\n",
              "           -2.2214e+00, -2.2214e+00],\n",
              "          [-1.9092e+00, -1.5385e+00, -1.6166e+00,  ..., -2.1824e+00,\n",
              "           -2.2019e+00, -2.2019e+00],\n",
              "          ...,\n",
              "          [-1.2654e+00, -1.3434e+00, -1.0508e+00,  ..., -1.3239e+00,\n",
              "           -1.5190e+00, -1.6166e+00],\n",
              "          [-1.4995e+00, -1.4995e+00, -1.2264e+00,  ..., -1.4800e+00,\n",
              "           -1.4215e+00, -1.5971e+00],\n",
              "          [-1.4995e+00, -1.4995e+00, -1.5385e+00,  ..., -1.4410e+00,\n",
              "           -1.2849e+00, -1.4215e+00]]],\n",
              "\n",
              "\n",
              "        [[[ 1.8744e+00,  1.7968e+00,  1.8550e+00,  ..., -9.5581e-01,\n",
              "           -1.3629e+00, -1.5955e+00],\n",
              "          [ 9.4391e-01,  1.0021e+00,  1.3122e+00,  ..., -7.4258e-01,\n",
              "           -1.0915e+00, -1.2660e+00],\n",
              "          [ 3.8175e-01,  5.5621e-01,  8.2760e-01,  ...,  4.0113e-01,\n",
              "            3.0421e-01,  2.4605e-01],\n",
              "          ...,\n",
              "          [-1.1690e+00, -1.0915e+00, -1.0527e+00,  ..., -1.2078e+00,\n",
              "           -1.2272e+00, -1.2660e+00],\n",
              "          [-1.0527e+00, -1.0334e+00, -9.5581e-01,  ..., -1.2466e+00,\n",
              "           -1.2272e+00, -1.1690e+00],\n",
              "          [-9.1704e-01, -8.7827e-01, -8.3950e-01,  ..., -1.0140e+00,\n",
              "           -6.2627e-01,  1.3434e-02]],\n",
              "\n",
              "         [[ 2.2035e+00,  2.1445e+00,  2.2231e+00,  ..., -2.1557e-01,\n",
              "           -9.2357e-01, -1.4152e+00],\n",
              "          [ 1.4561e+00,  1.4758e+00,  1.7511e+00,  ..., -1.1723e-01,\n",
              "           -7.0724e-01, -1.0809e+00],\n",
              "          [ 9.6444e-01,  1.0628e+00,  1.2594e+00,  ...,  8.4644e-01,\n",
              "            6.4977e-01,  4.5310e-01],\n",
              "          ...,\n",
              "          [-8.8424e-01, -8.0557e-01, -7.6624e-01,  ..., -9.4324e-01,\n",
              "           -9.8258e-01, -1.0219e+00],\n",
              "          [-8.2524e-01, -8.0557e-01, -7.2691e-01,  ..., -9.6291e-01,\n",
              "           -9.6291e-01, -8.8424e-01],\n",
              "          [-7.4657e-01, -7.0724e-01, -6.8757e-01,  ..., -6.8757e-01,\n",
              "           -2.9424e-01,  3.7444e-01]],\n",
              "\n",
              "         [[ 2.3245e+00,  2.2855e+00,  2.3830e+00,  ...,  4.1250e-01,\n",
              "           -3.2889e-01, -9.3371e-01],\n",
              "          [ 1.5636e+00,  1.5441e+00,  1.7782e+00,  ...,  2.3690e-01,\n",
              "           -3.6792e-01, -7.3861e-01],\n",
              "          [ 9.9781e-01,  1.0368e+00,  1.1734e+00,  ...,  9.1976e-01,\n",
              "            7.4417e-01,  6.4662e-01],\n",
              "          ...,\n",
              "          [-6.9959e-01, -6.2155e-01, -5.8253e-01,  ..., -6.4106e-01,\n",
              "           -6.8008e-01, -8.1665e-01],\n",
              "          [-5.8253e-01, -5.6302e-01, -4.8498e-01,  ..., -6.6057e-01,\n",
              "           -6.4106e-01, -6.4106e-01],\n",
              "          [-4.6547e-01, -4.4596e-01, -4.0694e-01,  ..., -4.0694e-01,\n",
              "           -1.6730e-02,  6.0760e-01]]],\n",
              "\n",
              "\n",
              "        [[[-2.2740e+00, -2.2740e+00, -2.2546e+00,  ..., -6.0688e-01,\n",
              "           -1.0334e+00, -1.2272e+00],\n",
              "          [-2.2546e+00, -2.2740e+00, -2.2546e+00,  ..., -8.3950e-01,\n",
              "           -1.8475e+00, -2.2158e+00],\n",
              "          [-2.2740e+00, -2.2934e+00, -2.2546e+00,  ..., -1.5374e+00,\n",
              "           -1.9057e+00, -2.1383e+00],\n",
              "          ...,\n",
              "          [-2.7734e-01, -3.5488e-01, -3.3549e-01,  ..., -2.7734e-01,\n",
              "           -3.1611e-01, -3.7426e-01],\n",
              "          [-2.9672e-01, -3.7426e-01, -2.3857e-01,  ..., -2.7734e-01,\n",
              "           -2.9672e-01, -3.7426e-01],\n",
              "          [-5.4873e-01, -4.9057e-01, -3.3549e-01,  ..., -2.9672e-01,\n",
              "           -3.3549e-01, -3.7426e-01]],\n",
              "\n",
              "         [[-2.3003e+00, -2.3003e+00, -2.2806e+00,  ..., -9.2357e-01,\n",
              "           -9.0391e-01, -7.8591e-01],\n",
              "          [-2.2806e+00, -2.3003e+00, -2.2806e+00,  ..., -1.3759e+00,\n",
              "           -2.0446e+00, -2.2019e+00],\n",
              "          [-2.3003e+00, -2.3199e+00, -2.2806e+00,  ..., -1.8086e+00,\n",
              "           -2.0643e+00, -2.1823e+00],\n",
              "          ...,\n",
              "          [ 4.3344e-01,  4.3344e-01,  4.3344e-01,  ...,  5.9077e-01,\n",
              "            5.3177e-01,  4.7277e-01],\n",
              "          [ 3.7444e-01,  3.7444e-01,  4.9244e-01,  ...,  5.7111e-01,\n",
              "            5.5144e-01,  4.7277e-01],\n",
              "          [ 1.9744e-01,  3.1544e-01,  4.3344e-01,  ...,  5.5144e-01,\n",
              "            5.1211e-01,  4.7277e-01]],\n",
              "\n",
              "         [[-2.0458e+00, -2.0458e+00, -2.0263e+00,  ..., -6.6057e-01,\n",
              "           -3.2889e-01,  1.3935e-01],\n",
              "          [-2.0263e+00, -2.0458e+00, -2.0263e+00,  ..., -1.2264e+00,\n",
              "           -1.8897e+00, -1.9287e+00],\n",
              "          [-2.0458e+00, -2.0653e+00, -2.0263e+00,  ..., -1.5190e+00,\n",
              "           -1.8312e+00, -2.0068e+00],\n",
              "          ...,\n",
              "          [ 1.6026e+00,  1.7392e+00,  1.7392e+00,  ...,  1.7977e+00,\n",
              "            1.7587e+00,  1.7002e+00],\n",
              "          [ 1.6416e+00,  1.6612e+00,  1.7587e+00,  ...,  1.7782e+00,\n",
              "            1.7587e+00,  1.6612e+00],\n",
              "          [ 1.4856e+00,  1.5636e+00,  1.6807e+00,  ...,  1.7392e+00,\n",
              "            1.7002e+00,  1.6612e+00]]]])"
            ]
          },
          "metadata": {},
          "execution_count": 8
        }
      ]
    },
    {
      "cell_type": "code",
      "source": [
        "labels"
      ],
      "metadata": {
        "colab": {
          "base_uri": "https://localhost:8080/"
        },
        "id": "kY_T4KUFjJ57",
        "outputId": "18bbc0c2-06df-4320-aabc-aa2778257652"
      },
      "execution_count": 9,
      "outputs": [
        {
          "output_type": "execute_result",
          "data": {
            "text/plain": [
              "tensor([4, 0, 5, 4, 2, 1, 0, 7, 7, 0, 8, 3, 1, 3, 9, 5])"
            ]
          },
          "metadata": {},
          "execution_count": 9
        }
      ]
    },
    {
      "cell_type": "code",
      "source": [
        "outputs"
      ],
      "metadata": {
        "colab": {
          "base_uri": "https://localhost:8080/"
        },
        "id": "djNG04s8jQsM",
        "outputId": "b650ac04-90a5-4098-a1c9-8931849d5f7c"
      },
      "execution_count": 10,
      "outputs": [
        {
          "output_type": "execute_result",
          "data": {
            "text/plain": [
              "tensor([[-0.9070, -7.2098,  1.2129,  3.5827,  3.9381,  3.3199,  2.4668,  2.2104,\n",
              "         -6.2647, -0.5280],\n",
              "        [ 8.0060,  0.7814,  1.2714, -1.3597, -0.2095, -2.5268, -5.6638, -3.5197,\n",
              "         -1.7399,  4.4888],\n",
              "        [-5.2149, -0.3480,  0.0865,  2.4741,  2.1745,  3.4927,  1.2277, -0.9231,\n",
              "         -1.1453,  0.3829],\n",
              "        [-0.2915, -1.4756, -0.2789, -0.6190,  5.5814,  1.1299, -3.9164,  2.1680,\n",
              "         -0.4774, -0.4979],\n",
              "        [-0.8805, -4.7927,  4.9196,  1.2989,  2.6460,  1.8795,  3.3143, -1.2460,\n",
              "         -3.6165, -2.6464],\n",
              "        [-0.2506,  6.0306, -0.0350,  1.0120, -0.5585,  0.9661,  3.1212, -4.2047,\n",
              "         -4.0773,  2.3613],\n",
              "        [ 3.4132,  2.4985, -0.8912, -0.2919,  1.3474, -2.3548, -6.5504,  0.1325,\n",
              "          4.4927,  0.6261],\n",
              "        [-5.1625, -2.1846, -0.3912, -0.2028,  3.2781,  1.3812, -1.9887, 12.6210,\n",
              "         -3.2448, -2.0886],\n",
              "        [-1.3626, -6.5595, -0.5380, -0.4409,  6.3960,  1.1797, -7.4887,  6.8648,\n",
              "         -0.5992,  1.6634],\n",
              "        [10.5292,  0.6525, -2.1845, -4.0081, -1.1267, -2.4615,  0.0507, -3.8112,\n",
              "          0.7853,  5.2470],\n",
              "        [ 4.3458, -0.1043,  0.5643, -1.6762, -1.3280, -3.1071, -2.6079, -4.9822,\n",
              "          8.1907,  1.3918],\n",
              "        [-2.0017, -1.8134,  3.4278,  4.1417,  3.9783,  2.7592,  3.5844,  0.1007,\n",
              "         -7.2192, -2.8289],\n",
              "        [ 2.1210,  3.2257,  0.4432,  0.2588, -3.8548, -0.3141,  2.6695, -6.3434,\n",
              "          2.1150,  1.5244],\n",
              "        [-3.7777, -3.2059,  2.7185,  5.0994,  2.1868,  1.8671,  4.3894, -1.6159,\n",
              "         -2.5713, -3.5974],\n",
              "        [ 4.9432,  5.6829, -1.4024, -1.8433, -0.9036, -2.0342, -3.7470, -3.9510,\n",
              "          2.8712,  4.3532],\n",
              "        [ 2.6237, -4.7529, -0.7975,  3.5238, -1.7200,  6.9650,  0.1699,  0.1629,\n",
              "         -3.0599, -0.5918]])"
            ]
          },
          "metadata": {},
          "execution_count": 10
        }
      ]
    },
    {
      "cell_type": "code",
      "source": [],
      "metadata": {
        "id": "JgD5hFgSjc16"
      },
      "execution_count": null,
      "outputs": []
    }
  ]
}